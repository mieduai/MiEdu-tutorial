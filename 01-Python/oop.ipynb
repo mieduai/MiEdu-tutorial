{
 "metadata": {
  "language_info": {
   "codemirror_mode": {
    "name": "ipython",
    "version": 3
   },
   "file_extension": ".py",
   "mimetype": "text/x-python",
   "name": "python",
   "nbconvert_exporter": "python",
   "pygments_lexer": "ipython3",
   "version": "3.8.3"
  },
  "orig_nbformat": 4,
  "kernelspec": {
   "name": "python3",
   "display_name": "Python 3.8.3 64-bit (conda)"
  },
  "interpreter": {
   "hash": "0af6d0490f2597823f87d92aa5eca07e4b752751b56387b5dbca6d3197d35149"
  }
 },
 "nbformat": 4,
 "nbformat_minor": 2,
 "cells": [
  {
   "source": [
    "# Object Oriented Programming (OOP)\n",
    "Like the name, the OOP is central on the object. \n",
    "* `class` is a formal description about an objects\n",
    "* Each object will have **attributes** (remember `.`) and **method** to go with it\n",
    "\n",
    "=> Everything is an object in Python\n",
    "\n",
    "* VietnameseCuisine is a class\n",
    "* Pho, Bun Bo Hue is an instance\n",
    "\n",
    "> Reference: [Python OOP](https://pynative.com/python-object-oriented-programming-oop-exercise/)"
   ],
   "cell_type": "markdown",
   "metadata": {}
  },
  {
   "cell_type": "code",
   "execution_count": 97,
   "metadata": {},
   "outputs": [
    {
     "output_type": "execute_result",
     "data": {
      "text/plain": [
       "int"
      ]
     },
     "metadata": {},
     "execution_count": 97
    }
   ],
   "source": [
    "var_1 = 34\n",
    "type(var_1)"
   ]
  },
  {
   "source": [
    "# Data Model\n",
    "\n",
    "> Source: [Data Model Python Docs](https://docs.python.org/3/reference/datamodel.html)\n",
    "\n",
    "* Objects are Python's Abstraction for Data \n",
    "* Objects will have type (class), identity, and values \n",
    "* For specific objects belongs to a specific class, they have corresponding behaviours of methods & functions"
   ],
   "cell_type": "markdown",
   "metadata": {}
  },
  {
   "source": [
    "# Define Class and Instance"
   ],
   "cell_type": "markdown",
   "metadata": {}
  },
  {
   "cell_type": "code",
   "execution_count": 102,
   "metadata": {},
   "outputs": [],
   "source": [
    "# Let's define a class to represent Vietnamese Cuisince\n",
    "class VietnameseCuisine():\n",
    "    '''\n",
    "    An empty class representing dishes in Vietnamese Cuisine\n",
    "    '''\n",
    "    pass"
   ]
  },
  {
   "cell_type": "code",
   "execution_count": 103,
   "metadata": {},
   "outputs": [],
   "source": [
    "pho = VietnameseCuisine()\n",
    "bun_bo = VietnameseCuisine()"
   ]
  },
  {
   "cell_type": "code",
   "execution_count": 4,
   "metadata": {},
   "outputs": [
    {
     "output_type": "stream",
     "name": "stdout",
     "text": [
      "False\n"
     ]
    }
   ],
   "source": [
    "print(pho == bun_bo)"
   ]
  },
  {
   "cell_type": "code",
   "execution_count": 105,
   "metadata": {},
   "outputs": [
    {
     "output_type": "stream",
     "name": "stdout",
     "text": [
      "{}\n"
     ]
    }
   ],
   "source": [
    "print(pho.__dict__)"
   ]
  },
  {
   "source": [
    "# Attributes\n",
    "* Attributes describe the characteristics of the class objects"
   ],
   "cell_type": "markdown",
   "metadata": {}
  },
  {
   "cell_type": "code",
   "execution_count": 107,
   "metadata": {},
   "outputs": [],
   "source": [
    "pho.meat = 'Beef'\n",
    "pho.soup = True\n",
    "pho.region = 'North'\n",
    "\n",
    "bun_bo.meat = 'Beef'\n",
    "bun_bo.soup = True \n",
    "bun_bo.region = 'Middle'"
   ]
  },
  {
   "cell_type": "code",
   "execution_count": 108,
   "metadata": {},
   "outputs": [
    {
     "output_type": "stream",
     "name": "stdout",
     "text": [
      "{'meat': 'Beef', 'soup': True, 'region': 'North'}\n"
     ]
    }
   ],
   "source": [
    "print(pho.__dict__)"
   ]
  },
  {
   "cell_type": "code",
   "execution_count": 110,
   "metadata": {},
   "outputs": [
    {
     "output_type": "stream",
     "name": "stdout",
     "text": [
      "Beef\n"
     ]
    }
   ],
   "source": [
    "print(bun_bo.meat)"
   ]
  },
  {
   "cell_type": "code",
   "execution_count": 10,
   "metadata": {},
   "outputs": [
    {
     "output_type": "stream",
     "name": "stdout",
     "text": [
      "{'meat': 'Beef', 'soup': True, 'region': 'Middle'}\n"
     ]
    }
   ],
   "source": [
    "print(bun_bo.__dict__)"
   ]
  },
  {
   "source": [
    "# Methods \n",
    "* Methods represent an actions of the class objects\n",
    "* A method is different from a function in 02 things:\n",
    "    - It belongs to a specific class and defined within a class\n",
    "    - The first parameters in the definition of the method is refer tho the instance (`self`)"
   ],
   "cell_type": "markdown",
   "metadata": {}
  },
  {
   "cell_type": "code",
   "execution_count": 111,
   "metadata": {},
   "outputs": [],
   "source": [
    "class VietnameseCuisine():\n",
    "    def get_ingredients(self):\n",
    "        print(self.meat)"
   ]
  },
  {
   "cell_type": "code",
   "execution_count": 112,
   "metadata": {},
   "outputs": [
    {
     "output_type": "stream",
     "name": "stdout",
     "text": [
      "Beef\n"
     ]
    }
   ],
   "source": [
    "bun_bo = VietnameseCuisine()\n",
    "bun_bo.meat = 'Beef'\n",
    "bun_bo.soup = True \n",
    "bun_bo.region = 'Middle'\n",
    "# method\n",
    "bun_bo.get_ingredients()"
   ]
  },
  {
   "source": [
    "# Special methods\n",
    "- Start with double underscore `__init__` or `__str__`"
   ],
   "cell_type": "markdown",
   "metadata": {}
  },
  {
   "source": [
    "## `__init__` to define attributes "
   ],
   "cell_type": "markdown",
   "metadata": {}
  },
  {
   "cell_type": "code",
   "execution_count": 113,
   "metadata": {},
   "outputs": [],
   "source": [
    "class VietnameseCuisine():\n",
    "    def __init__(self, meat=None, soup='Unknown', region='Unknown'):\n",
    "        self.meat = meat\n",
    "        self.soup = soup \n",
    "        self.region = region "
   ]
  },
  {
   "cell_type": "code",
   "execution_count": 114,
   "metadata": {},
   "outputs": [],
   "source": [
    "bun_bo = VietnameseCuisine(meat='Beef', soup=True, region='Middle')"
   ]
  },
  {
   "cell_type": "code",
   "execution_count": 115,
   "metadata": {},
   "outputs": [
    {
     "output_type": "stream",
     "name": "stdout",
     "text": [
      "{'meat': 'Beef', 'soup': True, 'region': 'Middle'}\n"
     ]
    }
   ],
   "source": [
    "print(bun_bo.__dict__)"
   ]
  },
  {
   "source": [
    "## `__repr__` & `__str__` what Python display"
   ],
   "cell_type": "markdown",
   "metadata": {}
  },
  {
   "cell_type": "code",
   "execution_count": 116,
   "metadata": {},
   "outputs": [
    {
     "output_type": "execute_result",
     "data": {
      "text/plain": [
       "<__main__.VietnameseCuisine at 0x7f7f8f7b2430>"
      ]
     },
     "metadata": {},
     "execution_count": 116
    }
   ],
   "source": [
    "bun_bo "
   ]
  },
  {
   "cell_type": "code",
   "execution_count": 117,
   "metadata": {},
   "outputs": [],
   "source": [
    "class VietnameseCuisine():\n",
    "    def __init__(self, name=None, meat=None, soup='Unknown', region='Unknown'):\n",
    "        self.name = name\n",
    "        self.meat = meat\n",
    "        self.soup = soup \n",
    "        self.region = region \n",
    "    def __repr__(self):\n",
    "        return self.name \n",
    "    def __str__(self):\n",
    "        return 'This is Vietnamese Cuisine: {}'.format(self.name)"
   ]
  },
  {
   "cell_type": "code",
   "execution_count": 118,
   "metadata": {},
   "outputs": [
    {
     "output_type": "execute_result",
     "data": {
      "text/plain": [
       "Bun Bo"
      ]
     },
     "metadata": {},
     "execution_count": 118
    }
   ],
   "source": [
    "bun_bo = VietnameseCuisine(name='Bun Bo', meat='Beef', soup=True, region='Middle')\n",
    "bun_bo"
   ]
  },
  {
   "cell_type": "code",
   "execution_count": 119,
   "metadata": {},
   "outputs": [
    {
     "output_type": "stream",
     "name": "stdout",
     "text": [
      "This is Vietnamese Cuisine: Bun Bo\n"
     ]
    }
   ],
   "source": [
    "print(bun_bo)"
   ]
  },
  {
   "source": [
    "## `__add__`"
   ],
   "cell_type": "markdown",
   "metadata": {}
  },
  {
   "cell_type": "code",
   "execution_count": 120,
   "metadata": {},
   "outputs": [],
   "source": [
    "class VietnameseCuisine():\n",
    "    def __init__(self, name=None, meat=None, soup='Unknown', region='Unknown'):\n",
    "        self.name = name\n",
    "        self.meat = meat\n",
    "        self.soup = soup \n",
    "        self.region = region \n",
    "    def __repr__(self):\n",
    "        return self.name \n",
    "    def __str__(self):\n",
    "        return 'This is Vietnamese Cuisine: {}'.format(self.name)\n",
    "    def __add__(self, other):\n",
    "        return 'This two dishes would be good to have together: {} and {}'.format(self.name, other.name)\n"
   ]
  },
  {
   "cell_type": "code",
   "execution_count": 121,
   "metadata": {},
   "outputs": [],
   "source": [
    "bun_bo = VietnameseCuisine(name='Bun Bo', meat='Beef', soup=True, region='Middle')\n",
    "pho = VietnameseCuisine(name='Pho', meat='Beef', soup=True, region='North')"
   ]
  },
  {
   "cell_type": "code",
   "execution_count": 122,
   "metadata": {},
   "outputs": [
    {
     "output_type": "execute_result",
     "data": {
      "text/plain": [
       "'This two dishes would be good to have together: Bun Bo and Pho'"
      ]
     },
     "metadata": {},
     "execution_count": 122
    }
   ],
   "source": [
    "bun_bo + pho "
   ]
  },
  {
   "source": [
    "# Inheritance & Overriding\n",
    "* A class can inherit attributes and behaviors methods from another class (parent/superclass)\n",
    "* A class that inherits from a superclass called subclass (child) class"
   ],
   "cell_type": "markdown",
   "metadata": {}
  },
  {
   "source": [
    "## Subclass (Inherit)"
   ],
   "cell_type": "markdown",
   "metadata": {}
  },
  {
   "cell_type": "code",
   "execution_count": 123,
   "metadata": {},
   "outputs": [],
   "source": [
    "class VietnameseSoup(VietnameseCuisine):\n",
    "    pass "
   ]
  },
  {
   "cell_type": "code",
   "execution_count": 124,
   "metadata": {},
   "outputs": [],
   "source": [
    "banh_canh = VietnameseSoup(name='Banh Canh', soup=True)"
   ]
  },
  {
   "cell_type": "code",
   "execution_count": 125,
   "metadata": {},
   "outputs": [
    {
     "output_type": "stream",
     "name": "stdout",
     "text": [
      "This is Vietnamese Cuisine: Banh Canh\n"
     ]
    }
   ],
   "source": [
    "print(banh_canh) ## All methods from superclass is inherited"
   ]
  },
  {
   "cell_type": "code",
   "execution_count": 126,
   "metadata": {},
   "outputs": [
    {
     "output_type": "execute_result",
     "data": {
      "text/plain": [
       "True"
      ]
     },
     "metadata": {},
     "execution_count": 126
    }
   ],
   "source": [
    "isinstance(banh_canh, VietnameseSoup) # an instance belongs to its defined class"
   ]
  },
  {
   "cell_type": "code",
   "execution_count": 127,
   "metadata": {},
   "outputs": [
    {
     "output_type": "execute_result",
     "data": {
      "text/plain": [
       "False"
      ]
     },
     "metadata": {},
     "execution_count": 127
    }
   ],
   "source": [
    "isinstance(bun_bo, VietnameseSoup) # instance of superclass not belong to subclass"
   ]
  },
  {
   "cell_type": "code",
   "execution_count": 128,
   "metadata": {},
   "outputs": [
    {
     "output_type": "execute_result",
     "data": {
      "text/plain": [
       "True"
      ]
     },
     "metadata": {},
     "execution_count": 128
    }
   ],
   "source": [
    "isinstance(banh_canh, VietnameseCuisine) # instance of subclass belongs to superclass"
   ]
  },
  {
   "source": [
    "## Overriding\n",
    "* Allow a subclass to have a different implementation of a methods that already defined in superclass "
   ],
   "cell_type": "markdown",
   "metadata": {}
  },
  {
   "cell_type": "code",
   "execution_count": 129,
   "metadata": {},
   "outputs": [
    {
     "output_type": "stream",
     "name": "stdout",
     "text": [
      "This is Vietnamese Cuisine: Banh Canh\n"
     ]
    }
   ],
   "source": [
    "print(banh_canh)"
   ]
  },
  {
   "cell_type": "code",
   "execution_count": 130,
   "metadata": {},
   "outputs": [],
   "source": [
    "class VietnameseSoup(VietnameseCuisine):\n",
    "    def __str__(self):\n",
    "        return 'This is Vietnamese Soup: {}'.format(self.name)"
   ]
  },
  {
   "cell_type": "code",
   "execution_count": 131,
   "metadata": {},
   "outputs": [
    {
     "output_type": "stream",
     "name": "stdout",
     "text": [
      "This is Vietnamese Soup: Banh Canh\n"
     ]
    }
   ],
   "source": [
    "banh_canh = VietnameseSoup(name='Banh Canh', soup=True)\n",
    "print(banh_canh)"
   ]
  },
  {
   "cell_type": "code",
   "execution_count": 132,
   "metadata": {},
   "outputs": [],
   "source": [
    "# overide `__init__` by using the `super()` to retrive the parents `__init__()` and adding new attributes \n",
    "class VietnameseSoup(VietnameseCuisine):\n",
    "    def __init__(self, name=None, meat=None, soup='Unknown', region='Unknown'):\n",
    "        super().__init__(name, meat, soup, region)\n",
    "        self.soup = True"
   ]
  },
  {
   "cell_type": "code",
   "execution_count": 133,
   "metadata": {},
   "outputs": [
    {
     "output_type": "execute_result",
     "data": {
      "text/plain": [
       "{'name': 'Banh Canh', 'meat': None, 'soup': True, 'region': 'Unknown'}"
      ]
     },
     "metadata": {},
     "execution_count": 133
    }
   ],
   "source": [
    "banh_canh = VietnameseSoup(name='Banh Canh')\n",
    "banh_canh.__dict__"
   ]
  },
  {
   "source": [
    "# Encapsulation"
   ],
   "cell_type": "markdown",
   "metadata": {}
  },
  {
   "source": [
    "## Private Variables & Private methods \n",
    "* Restrict access to methods and variables in order to prevent data being modified by accident => **Escapsulation**"
   ],
   "cell_type": "markdown",
   "metadata": {}
  },
  {
   "cell_type": "code",
   "execution_count": 134,
   "metadata": {},
   "outputs": [],
   "source": [
    " # accessible only in their own class, but not from outside. Their name starts with a double underscore __\n",
    " class VietnameseCuisine():\n",
    "    def __init__(self, name=None, meat=None, soup='Unknown', region='Unknown'):\n",
    "        self.__name = name\n",
    "        self.__meat = meat\n",
    "        self.__soup = soup \n",
    "        self.__region = region \n",
    "    def __repr__(self):\n",
    "        return self.name \n",
    "    def __str__(self):\n",
    "        return 'This is Vietnamese Cuisine: {}'.format(self.name)\n",
    "    def __add__(self, other):\n",
    "        return 'This two dishes would be good to have together: {} and {}'.format(self.name, other.name)\n",
    "    def __get_ingredients(self):\n",
    "        print(self.__meat)\n"
   ]
  },
  {
   "cell_type": "code",
   "execution_count": 138,
   "metadata": {},
   "outputs": [],
   "source": [
    "bun_bo = VietnameseCuisine(name='Bun Bo', meat='Beef', soup=True, region='Middle')"
   ]
  },
  {
   "cell_type": "code",
   "execution_count": 139,
   "metadata": {},
   "outputs": [
    {
     "output_type": "error",
     "ename": "AttributeError",
     "evalue": "'VietnameseCuisine' object has no attribute '__name'",
     "traceback": [
      "\u001b[0;31m---------------------------------------------------------------------------\u001b[0m",
      "\u001b[0;31mAttributeError\u001b[0m                            Traceback (most recent call last)",
      "\u001b[0;32m<ipython-input-139-92d225470275>\u001b[0m in \u001b[0;36m<module>\u001b[0;34m\u001b[0m\n\u001b[0;32m----> 1\u001b[0;31m \u001b[0mbun_bo\u001b[0m\u001b[0;34m.\u001b[0m\u001b[0m__name\u001b[0m\u001b[0;34m\u001b[0m\u001b[0;34m\u001b[0m\u001b[0m\n\u001b[0m",
      "\u001b[0;31mAttributeError\u001b[0m: 'VietnameseCuisine' object has no attribute '__name'"
     ]
    }
   ],
   "source": [
    "bun_bo.__name"
   ]
  },
  {
   "cell_type": "code",
   "execution_count": 140,
   "metadata": {},
   "outputs": [
    {
     "output_type": "error",
     "ename": "AttributeError",
     "evalue": "'VietnameseCuisine' object has no attribute '__get_ingredients'",
     "traceback": [
      "\u001b[0;31m---------------------------------------------------------------------------\u001b[0m",
      "\u001b[0;31mAttributeError\u001b[0m                            Traceback (most recent call last)",
      "\u001b[0;32m<ipython-input-140-bc3fb95d4ccd>\u001b[0m in \u001b[0;36m<module>\u001b[0;34m\u001b[0m\n\u001b[0;32m----> 1\u001b[0;31m \u001b[0mbun_bo\u001b[0m\u001b[0;34m.\u001b[0m\u001b[0m__get_ingredients\u001b[0m\u001b[0;34m(\u001b[0m\u001b[0;34m)\u001b[0m\u001b[0;34m\u001b[0m\u001b[0;34m\u001b[0m\u001b[0m\n\u001b[0m",
      "\u001b[0;31mAttributeError\u001b[0m: 'VietnameseCuisine' object has no attribute '__get_ingredients'"
     ]
    }
   ],
   "source": [
    "bun_bo.__get_ingredients()"
   ]
  },
  {
   "source": [
    "## Properties\n",
    "To control the access to private variables"
   ],
   "cell_type": "markdown",
   "metadata": {}
  },
  {
   "cell_type": "code",
   "execution_count": 144,
   "metadata": {},
   "outputs": [],
   "source": [
    " class VietnameseCuisine():\n",
    "    def __init__(self, name=None, meat=None, soup='Unknown', region='Unknown'):\n",
    "        self.__name = name\n",
    "        self.__meat = meat\n",
    "        self.__soup = soup \n",
    "        self.__region = region \n",
    "    def __repr__(self):\n",
    "        return self.name \n",
    "    def __str__(self):\n",
    "        return 'This is Vietnamese Cuisine: {}'.format(self.name)\n",
    "    def __add__(self, other):\n",
    "        return 'This two dishes would be good to have together: {} and {}'.format(self.name, other.name)\n",
    "    @property ## This allow us to access a specific properties\n",
    "    def meat(self):\n",
    "        return self.__meat\n",
    "    @meat.setter ## This allow us to change a properties\n",
    "    def meat(self, meat):\n",
    "        self.__meat = meat "
   ]
  },
  {
   "cell_type": "code",
   "execution_count": 145,
   "metadata": {},
   "outputs": [],
   "source": [
    "bun_bo = VietnameseCuisine(name='Bun Bo', meat='Beef', soup=True, region='Middle')"
   ]
  },
  {
   "cell_type": "code",
   "execution_count": 149,
   "metadata": {},
   "outputs": [
    {
     "output_type": "error",
     "ename": "AttributeError",
     "evalue": "'VietnameseCuisine' object has no attribute '__meat'",
     "traceback": [
      "\u001b[0;31m---------------------------------------------------------------------------\u001b[0m",
      "\u001b[0;31mAttributeError\u001b[0m                            Traceback (most recent call last)",
      "\u001b[0;32m<ipython-input-149-dbb36a650004>\u001b[0m in \u001b[0;36m<module>\u001b[0;34m\u001b[0m\n\u001b[0;32m----> 1\u001b[0;31m \u001b[0mbun_bo\u001b[0m\u001b[0;34m.\u001b[0m\u001b[0m__meat\u001b[0m\u001b[0;34m\u001b[0m\u001b[0;34m\u001b[0m\u001b[0m\n\u001b[0m",
      "\u001b[0;31mAttributeError\u001b[0m: 'VietnameseCuisine' object has no attribute '__meat'"
     ]
    }
   ],
   "source": [
    "bun_bo.__meat "
   ]
  },
  {
   "cell_type": "code",
   "execution_count": 147,
   "metadata": {},
   "outputs": [
    {
     "output_type": "execute_result",
     "data": {
      "text/plain": [
       "'Beef'"
      ]
     },
     "metadata": {},
     "execution_count": 147
    }
   ],
   "source": [
    "bun_bo.meat "
   ]
  },
  {
   "cell_type": "code",
   "execution_count": 148,
   "metadata": {},
   "outputs": [],
   "source": [
    "bun_bo.meat = 'Chicken'"
   ]
  },
  {
   "cell_type": "code",
   "execution_count": 150,
   "metadata": {},
   "outputs": [
    {
     "output_type": "execute_result",
     "data": {
      "text/plain": [
       "'Chicken'"
      ]
     },
     "metadata": {},
     "execution_count": 150
    }
   ],
   "source": [
    "bun_bo.meat "
   ]
  },
  {
   "source": [
    "# Exercise Time"
   ],
   "cell_type": "markdown",
   "metadata": {}
  },
  {
   "cell_type": "code",
   "execution_count": 201,
   "metadata": {},
   "outputs": [],
   "source": [
    "# Ex1. Create a Vehicle class with:\n",
    "## 1. max_speed, mileage, seating_capacity instance attributes, \n",
    "## 2. method get_max_speed, return the max_speed \n",
    "class Vehicle():\n",
    "    # Replace the pass by YOUR CODE\n",
    "    def __init__(self, name=None, max_speed=None, mileage=None, seating_capacity=None):\n",
    "        self.name = name\n",
    "        self.max_speed = max_speed\n",
    "        self.mileage = mileage\n",
    "        self.seating_capacity = seating_capacity\n",
    "    def get_max_speed(self):\n",
    "        return self.max_speed"
   ]
  },
  {
   "cell_type": "code",
   "execution_count": 153,
   "metadata": {},
   "outputs": [
    {
     "output_type": "execute_result",
     "data": {
      "text/plain": [
       "__main__.Vehicle"
      ]
     },
     "metadata": {},
     "execution_count": 153
    }
   ],
   "source": [
    "type(modelX)"
   ]
  },
  {
   "cell_type": "code",
   "execution_count": 152,
   "metadata": {},
   "outputs": [
    {
     "output_type": "stream",
     "name": "stdout",
     "text": [
      "240\n18\n"
     ]
    }
   ],
   "source": [
    "# Run the code below\n",
    "modelX = Vehicle(max_speed=240, mileage=18)\n",
    "print(modelX.max_speed)\n",
    "print(modelX.mileage)"
   ]
  },
  {
   "cell_type": "code",
   "execution_count": 156,
   "metadata": {},
   "outputs": [
    {
     "output_type": "execute_result",
     "data": {
      "text/plain": [
       "{'max_speed': 240, 'mileage': 18, 'seating_capacity': 4}"
      ]
     },
     "metadata": {},
     "execution_count": 156
    }
   ],
   "source": [
    "modelX = Vehicle(max_speed=240, mileage=18, seating_capacity=4)\n",
    "modelX.__dict__"
   ]
  },
  {
   "cell_type": "code",
   "execution_count": 157,
   "metadata": {},
   "outputs": [
    {
     "output_type": "execute_result",
     "data": {
      "text/plain": [
       "240"
      ]
     },
     "metadata": {},
     "execution_count": 157
    }
   ],
   "source": [
    "modelX.get_max_speed()"
   ]
  },
  {
   "cell_type": "code",
   "execution_count": 162,
   "metadata": {},
   "outputs": [],
   "source": [
    "# Ex2. Create a child class Bus that will inherit all of the attributes and methods of the Vehicle class\n",
    "class Bus(Vehicle):\n",
    "    pass"
   ]
  },
  {
   "cell_type": "code",
   "execution_count": 165,
   "metadata": {},
   "outputs": [
    {
     "output_type": "stream",
     "name": "stdout",
     "text": [
      "Vehicle Name: School Volvo Speed: 180 Mileage: 12\n"
     ]
    }
   ],
   "source": [
    "# Run the code below\n",
    "school_bus = Bus(name='School Volvo', max_speed=180, mileage=12)\n",
    "print(\"Vehicle Name:\", school_bus.name, \"Speed:\", school_bus.max_speed, \"Mileage:\", school_bus.mileage)"
   ]
  },
  {
   "cell_type": "code",
   "execution_count": 168,
   "metadata": {},
   "outputs": [
    {
     "output_type": "execute_result",
     "data": {
      "text/plain": [
       "__main__.Bus"
      ]
     },
     "metadata": {},
     "execution_count": 168
    }
   ],
   "source": [
    "type(school_bus)"
   ]
  },
  {
   "cell_type": "code",
   "execution_count": 169,
   "metadata": {},
   "outputs": [
    {
     "output_type": "execute_result",
     "data": {
      "text/plain": [
       "180"
      ]
     },
     "metadata": {},
     "execution_count": 169
    }
   ],
   "source": [
    "school_bus.get_max_speed()"
   ]
  },
  {
   "cell_type": "code",
   "execution_count": 192,
   "metadata": {},
   "outputs": [],
   "source": [
    "# Ex3. Class Inheritance\n",
    "## 1. Create the child class Bus, add the default seating_capacity = 50\n",
    "## 2. Write a method seating_capacity, pritn out 'The seating capacity of <name> is <capacity>'\n",
    "class Bus(Vehicle):\n",
    "    def __init__(self, name=None, max_speed=None, mileage=None, seating_capacity=None):\n",
    "        super().__init__(name, max_speed, mileage, seating_capacity)\n",
    "        self.seating_capacity = 50\n",
    "    def get_seating_capacity(self):\n",
    "        return 'The seating capacity of {} is {}'.format(self.name, self.seating_capacity)"
   ]
  },
  {
   "cell_type": "code",
   "execution_count": 193,
   "metadata": {},
   "outputs": [
    {
     "output_type": "execute_result",
     "data": {
      "text/plain": [
       "'The seating capacity of School Volvo is 50'"
      ]
     },
     "metadata": {},
     "execution_count": 193
    }
   ],
   "source": [
    "bus_50 = Bus(name='School Volvo', max_speed=180, mileage=12)\n",
    "bus_50.get_seating_capacity()"
   ]
  },
  {
   "cell_type": "code",
   "execution_count": 93,
   "metadata": {},
   "outputs": [],
   "source": [
    "# Ex4. Method Inheritance\n",
    "## 1. On class Vehicle: write the method fare() to return the fare = capacity * 100\n",
    "## 2. On class Bus: overwrite the fare() output => add an extra 105 on the full fare as a maintenance charge"
   ]
  },
  {
   "cell_type": "code",
   "execution_count": 205,
   "metadata": {},
   "outputs": [],
   "source": [
    "class Vehicle():\n",
    "    #Replace the pass by YOUR CODE\n",
    "    def __init__(self, name=None, max_speed=None, mileage=None, seating_capacity=None):\n",
    "        self.name = name\n",
    "        self.max_speed = max_speed\n",
    "        self.mileage = mileage\n",
    "        self.seating_capacity = seating_capacity\n",
    "    def get_max_speed(self):\n",
    "        return self.max_speed\n",
    "    def fare(self):\n",
    "        return self.seating_capacity * 100"
   ]
  },
  {
   "cell_type": "code",
   "execution_count": 206,
   "metadata": {},
   "outputs": [
    {
     "output_type": "execute_result",
     "data": {
      "text/plain": [
       "400"
      ]
     },
     "metadata": {},
     "execution_count": 206
    }
   ],
   "source": [
    "modelX = Vehicle(max_speed=240, mileage=18, seating_capacity=4)\n",
    "modelX.fare()"
   ]
  },
  {
   "cell_type": "code",
   "execution_count": 207,
   "metadata": {},
   "outputs": [],
   "source": [
    "class Bus(Vehicle):\n",
    "    def __init__(self, name=None, max_speed=None, mileage=None, seating_capacity=None):\n",
    "        super().__init__(name, max_speed, mileage, seating_capacity)\n",
    "        self.seating_capacity = 50\n",
    "    def fare(self):\n",
    "        amt = super().fare()\n",
    "        amt += 150\n",
    "        return amt"
   ]
  },
  {
   "cell_type": "code",
   "execution_count": 208,
   "metadata": {},
   "outputs": [
    {
     "output_type": "execute_result",
     "data": {
      "text/plain": [
       "5150"
      ]
     },
     "metadata": {},
     "execution_count": 208
    }
   ],
   "source": [
    "bus_50 = Bus(name='School Volvo', max_speed=180, mileage=12)\n",
    "bus_50.fare()"
   ]
  },
  {
   "cell_type": "code",
   "execution_count": null,
   "metadata": {},
   "outputs": [],
   "source": []
  }
 ]
}