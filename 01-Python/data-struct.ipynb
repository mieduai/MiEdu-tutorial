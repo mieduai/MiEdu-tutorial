{
 "metadata": {
  "language_info": {
   "codemirror_mode": {
    "name": "ipython",
    "version": 3
   },
   "file_extension": ".py",
   "mimetype": "text/x-python",
   "name": "python",
   "nbconvert_exporter": "python",
   "pygments_lexer": "ipython3",
   "version": "3.8.3"
  },
  "orig_nbformat": 4,
  "kernelspec": {
   "name": "python3",
   "display_name": "Python 3.8.3 64-bit (conda)"
  },
  "interpreter": {
   "hash": "0af6d0490f2597823f87d92aa5eca07e4b752751b56387b5dbca6d3197d35149"
  }
 },
 "nbformat": 4,
 "nbformat_minor": 2,
 "cells": [
  {
   "source": [
    "# Python DataTypes & Data Structures"
   ],
   "cell_type": "markdown",
   "metadata": {}
  },
  {
   "source": [
    "# Pro and Cons\n",
    "* Pros: Development speed, easy to use, large eco system\n",
    "* Cons: Too easy => Dirty code, no compile => cannot track mistake, slower than some languages"
   ],
   "cell_type": "markdown",
   "metadata": {}
  },
  {
   "source": [
    "# What's Data?\n",
    "* Everyone interacts with data before. Most familiar in the table format with columns and rows\n",
    "    * Row: combination of elements (=> list/series) horizontally\n",
    "    * Columns: combination of elements (=> list/series) vertically \n",
    "    * Each elements: numeric, string, bool (TRUE/FALSE)\n",
    "* Keep the image of a data table in mind, it will help you digest the abstracts of Data types and Data Structures in this part\n",
    "\n",
    "![data-form.png](./images/data-form.png)\n",
    "\n",
    "Source: [Hello-world. Big Data](https://anhdang.gitbook.io/datacracy/big-o/1-hello-world/big-data)\n",
    "\n",
    "![data-table.png](./images/data-table.png)\n",
    "\n",
    "Source: [HERE](https://www.google.com/url?sa=i&url=https%3A%2F%2Fgithub.com%2Flaravel-admin-extensions%2Fdata-table&psig=AOvVaw3I1WDvV9emxABLJhov8g28&ust=1623920479827000&source=images&cd=vfe&ved=0CA0QjhxqFwoTCKCgmbTlm_ECFQAAAAAdAAAAABAV)"
   ],
   "cell_type": "markdown",
   "metadata": {}
  },
  {
   "source": [
    "# Data types & operations\n",
    "* Data types: `int`, `float`, `str`, `bool`\n",
    "* Operations: \n",
    "    * `+ - * ** / // %`\tArithmetic\n",
    "    * `+= -= *= \\/=`\tIncrementation and decrementation\n",
    "    * `+ +=`\tString concatenation\n",
    "    * `== != < > <= >=`\tComparison\n",
    "    * `is` `is not`\tIdentity\n",
    "    * `and` or `|` (or)\tLogical\n",
    "    * `.`\tObject method or attribute\n",
    "    * `[ ]`\tAccess specific elements in a list\n",
    "\n",
    "![math-operators.png](./images/math-operators.png)\n",
    "\n",
    "Source: [www.automateboringstuff.com](https://automatetheboringstuff.com/)"
   ],
   "cell_type": "markdown",
   "metadata": {}
  },
  {
   "cell_type": "code",
   "execution_count": 3,
   "metadata": {},
   "outputs": [
    {
     "output_type": "execute_result",
     "data": {
      "text/plain": [
       "1"
      ]
     },
     "metadata": {},
     "execution_count": 3
    }
   ],
   "source": [
    "3 % 2"
   ]
  },
  {
   "cell_type": "code",
   "execution_count": 5,
   "metadata": {},
   "outputs": [
    {
     "output_type": "execute_result",
     "data": {
      "text/plain": [
       "7"
      ]
     },
     "metadata": {},
     "execution_count": 5
    }
   ],
   "source": [
    "a = 2\n",
    "#a = a + 5\n",
    "a += 5\n",
    "a"
   ]
  },
  {
   "source": [
    "## Useful Methods\n",
    "\n",
    "Function\n",
    "* print()\n",
    "* input()\n",
    "* len()\n",
    "* str(), int(), float()\n",
    "* type()"
   ],
   "cell_type": "markdown",
   "metadata": {}
  },
  {
   "cell_type": "code",
   "execution_count": 9,
   "metadata": {},
   "outputs": [
    {
     "output_type": "execute_result",
     "data": {
      "text/plain": [
       "int"
      ]
     },
     "metadata": {},
     "execution_count": 9
    }
   ],
   "source": [
    "e = 56\n",
    "type(e)"
   ]
  },
  {
   "cell_type": "code",
   "execution_count": 10,
   "metadata": {},
   "outputs": [
    {
     "output_type": "stream",
     "name": "stdout",
     "text": [
      "helloworld\nDANGHUYNHMAIANH\nDang huynh mai anh\n"
     ]
    }
   ],
   "source": [
    "print('HELLOWORLD'.lower())\n",
    "print('danghuynhmaianh'.upper())\n",
    "print('dang huynh mai anh'.capitalize())"
   ]
  },
  {
   "cell_type": "code",
   "execution_count": 15,
   "metadata": {},
   "outputs": [
    {
     "output_type": "stream",
     "name": "stdout",
     "text": [
      "3\n3\n1\nTrue\nToday is Tuesday of 56767\n"
     ]
    }
   ],
   "source": [
    "print('Hello World'.count('l'))\n",
    "print('hello world, hello hello'.count('hello'))\n",
    "print('dang huynh mai anh'.index('a'))\n",
    "print('hello' in 'Hello World'.lower())\n",
    "print('Today is {} of {}'.format('Tuesday', '56767'))"
   ]
  },
  {
   "source": [
    "# List (Mutable Ordered)\n",
    "List are mutable ordered sequences of elements:\n",
    "* Define the by square brackets [], elements are separated by coma \n",
    "* Element is defined by index (first index is 0)\n",
    "* Contain different datatype\n",
    "* string => sequence (similar to list)"
   ],
   "cell_type": "markdown",
   "metadata": {}
  },
  {
   "cell_type": "code",
   "execution_count": 17,
   "metadata": {},
   "outputs": [
    {
     "output_type": "stream",
     "name": "stdout",
     "text": [
      "1\n6\n"
     ]
    }
   ],
   "source": [
    "ls = [5, 4, 6, 5, 5, 6, 7]\n",
    "print(ls.index(4))\n",
    "print(ls.index(max(ls)))"
   ]
  },
  {
   "cell_type": "code",
   "execution_count": 23,
   "metadata": {},
   "outputs": [
    {
     "output_type": "execute_result",
     "data": {
      "text/plain": [
       "[4, 5, 5, 5, 6, 6, 7]"
      ]
     },
     "metadata": {},
     "execution_count": 23
    }
   ],
   "source": [
    "ls.sort()\n",
    "ls"
   ]
  },
  {
   "cell_type": "code",
   "execution_count": 19,
   "metadata": {},
   "outputs": [],
   "source": [
    "ls.extend([1])"
   ]
  },
  {
   "cell_type": "code",
   "execution_count": 20,
   "metadata": {},
   "outputs": [
    {
     "output_type": "execute_result",
     "data": {
      "text/plain": [
       "[4, 5, 5, 5, 6, 6, 7]"
      ]
     },
     "metadata": {},
     "execution_count": 20
    }
   ],
   "source": [
    "sorted([5, 4, 6, 5, 5, 6, 7], reverse=False)"
   ]
  },
  {
   "cell_type": "code",
   "execution_count": 27,
   "metadata": {},
   "outputs": [
    {
     "output_type": "execute_result",
     "data": {
      "text/plain": [
       "'n'"
      ]
     },
     "metadata": {},
     "execution_count": 27
    }
   ],
   "source": [
    "ls = 'danghuynhmaianh'\n",
    "ls.index(min(ls))\n",
    "ls[-2]"
   ]
  },
  {
   "cell_type": "code",
   "execution_count": 30,
   "metadata": {},
   "outputs": [
    {
     "output_type": "execute_result",
     "data": {
      "text/plain": [
       "'a b c d'"
      ]
     },
     "metadata": {},
     "execution_count": 30
    }
   ],
   "source": [
    "alphabet = ['a', 'b', 'c', 'd']\n",
    "' '.join(alphabet)"
   ]
  },
  {
   "cell_type": "code",
   "execution_count": 31,
   "metadata": {},
   "outputs": [],
   "source": [
    "# Subsetting\n",
    "numbers = [1, 2, 3, 5, 4, 6, 5, 5, 6, 7]\n",
    "strings = ['a', 'b', 'd', 'c']\n",
    "mixed = ['a', 1, 3, 4.5, True]"
   ]
  },
  {
   "source": [
    "![list-index.png](./images/list-index.png)\n",
    "\n",
    "Source: [www.programiz.com](www.programiz.com)"
   ],
   "cell_type": "markdown",
   "metadata": {}
  },
  {
   "cell_type": "code",
   "execution_count": 35,
   "metadata": {},
   "outputs": [
    {
     "output_type": "execute_result",
     "data": {
      "text/plain": [
       "[1, 2, 3, 5, 4, 6, 5]"
      ]
     },
     "metadata": {},
     "execution_count": 35
    }
   ],
   "source": [
    "numbers = [1, 2, 3, 5, 4, 6, 5, 5, 6, 7]\n",
    "numbers[5:]\n",
    "numbers[:-3]"
   ]
  },
  {
   "cell_type": "code",
   "execution_count": 76,
   "metadata": {},
   "outputs": [
    {
     "output_type": "stream",
     "name": "stdout",
     "text": [
      "7\n[1, 'd', 3]\n"
     ]
    }
   ],
   "source": [
    "# index\n",
    "print(numbers[-1])\n",
    "print(numbers[0:3])"
   ]
  },
  {
   "cell_type": "code",
   "execution_count": 36,
   "metadata": {},
   "outputs": [
    {
     "output_type": "execute_result",
     "data": {
      "text/plain": [
       "[1, 'd', 3, 5, 4, 6, 5, 5, 6, 7]"
      ]
     },
     "metadata": {},
     "execution_count": 36
    }
   ],
   "source": [
    "# mutability\n",
    "numbers[1] = 'd'\n",
    "numbers"
   ]
  },
  {
   "source": [
    "## Useful Method\n",
    "![list-method.png](./images/list-method.png)"
   ],
   "cell_type": "markdown",
   "metadata": {}
  },
  {
   "cell_type": "code",
   "execution_count": 77,
   "metadata": {},
   "outputs": [
    {
     "output_type": "stream",
     "name": "stdout",
     "text": [
      "10\nnew\na\n['new', 'd', 'c', 'b', 'a']\n"
     ]
    }
   ],
   "source": [
    "print(len(numbers))\n",
    "print(max(strings))\n",
    "print(min(strings))\n",
    "print(sorted(strings, reverse=True))"
   ]
  },
  {
   "cell_type": "code",
   "execution_count": 44,
   "metadata": {},
   "outputs": [
    {
     "output_type": "execute_result",
     "data": {
      "text/plain": [
       "['a', 'a', 'a', 'd', 'g', 'h', 'h', 'h', 'i', 'm', 'n', 'n', 'n', 'u', 'y']"
      ]
     },
     "metadata": {},
     "execution_count": 44
    }
   ],
   "source": [
    "sorted('danghuynhmaianh')"
   ]
  },
  {
   "cell_type": "code",
   "execution_count": 49,
   "metadata": {},
   "outputs": [
    {
     "output_type": "execute_result",
     "data": {
      "text/plain": [
       "['a', 'b', 'd', 'c', 'new']"
      ]
     },
     "metadata": {},
     "execution_count": 49
    }
   ],
   "source": [
    "strings.append('new')\n",
    "strings "
   ]
  },
  {
   "cell_type": "code",
   "execution_count": 50,
   "metadata": {},
   "outputs": [
    {
     "output_type": "execute_result",
     "data": {
      "text/plain": [
       "['a', 'b', 'd', 'c']"
      ]
     },
     "metadata": {},
     "execution_count": 50
    }
   ],
   "source": [
    "strings.remove('new')\n",
    "strings "
   ]
  },
  {
   "cell_type": "code",
   "execution_count": 51,
   "metadata": {},
   "outputs": [
    {
     "output_type": "execute_result",
     "data": {
      "text/plain": [
       "['a', 'b', 'new', 'd', 'c']"
      ]
     },
     "metadata": {},
     "execution_count": 51
    }
   ],
   "source": [
    "strings.insert(2, 'new')\n",
    "strings "
   ]
  },
  {
   "cell_type": "code",
   "execution_count": 54,
   "metadata": {},
   "outputs": [
    {
     "output_type": "execute_result",
     "data": {
      "text/plain": [
       "['c', 'd', 'new', 'b', 'a']"
      ]
     },
     "metadata": {},
     "execution_count": 54
    }
   ],
   "source": [
    "strings.reverse()\n",
    "strings"
   ]
  },
  {
   "source": [
    "# Tuple (Immuable Ordered)\n",
    "Tuple are immuable ordered sequences of elements:\n",
    "\n",
    "* Define the by square brackets (), elements are separated by coma\n",
    "* 2+ elements\n",
    "* Subset/Slice as list\n",
    "* Immuable: cannot change the value of elements"
   ],
   "cell_type": "markdown",
   "metadata": {}
  },
  {
   "cell_type": "code",
   "execution_count": 38,
   "metadata": {},
   "outputs": [
    {
     "output_type": "execute_result",
     "data": {
      "text/plain": [
       "3"
      ]
     },
     "metadata": {},
     "execution_count": 38
    }
   ],
   "source": [
    "my_tuple = (1, 3 , 4, 'a', 'c', 2)\n",
    "my_tuple[1]"
   ]
  },
  {
   "cell_type": "code",
   "execution_count": 36,
   "metadata": {},
   "outputs": [
    {
     "output_type": "execute_result",
     "data": {
      "text/plain": [
       "[1, 4, 4, 'a', 'c', 2]"
      ]
     },
     "metadata": {},
     "execution_count": 36
    }
   ],
   "source": [
    "my_ls = [1, 3 , 4, 'a', 'c', 2]\n",
    "my_ls[1] = 4\n",
    "my_ls"
   ]
  },
  {
   "cell_type": "code",
   "execution_count": 39,
   "metadata": {},
   "outputs": [
    {
     "output_type": "error",
     "ename": "TypeError",
     "evalue": "'tuple' object does not support item assignment",
     "traceback": [
      "\u001b[0;31m---------------------------------------------------------------------------\u001b[0m",
      "\u001b[0;31mTypeError\u001b[0m                                 Traceback (most recent call last)",
      "\u001b[0;32m<ipython-input-39-dadb5ddecbd5>\u001b[0m in \u001b[0;36m<module>\u001b[0;34m\u001b[0m\n\u001b[0;32m----> 1\u001b[0;31m \u001b[0mmy_tuple\u001b[0m\u001b[0;34m[\u001b[0m\u001b[0;36m1\u001b[0m\u001b[0;34m]\u001b[0m \u001b[0;34m=\u001b[0m \u001b[0;36m4\u001b[0m\u001b[0;34m\u001b[0m\u001b[0;34m\u001b[0m\u001b[0m\n\u001b[0m",
      "\u001b[0;31mTypeError\u001b[0m: 'tuple' object does not support item assignment"
     ]
    }
   ],
   "source": [
    "my_tuple[1] = 4"
   ]
  },
  {
   "cell_type": "code",
   "execution_count": 41,
   "metadata": {},
   "outputs": [
    {
     "output_type": "execute_result",
     "data": {
      "text/plain": [
       "list"
      ]
     },
     "metadata": {},
     "execution_count": 41
    }
   ],
   "source": [
    "type(my_ls)"
   ]
  },
  {
   "cell_type": "code",
   "execution_count": 60,
   "metadata": {},
   "outputs": [
    {
     "output_type": "execute_result",
     "data": {
      "text/plain": [
       "[1, 3, 4, 'a', 'c', 2]"
      ]
     },
     "metadata": {},
     "execution_count": 60
    }
   ],
   "source": [
    "tuple_to_ls = list(my_tuple)\n",
    "tuple_to_ls"
   ]
  },
  {
   "cell_type": "code",
   "execution_count": 57,
   "metadata": {},
   "outputs": [
    {
     "output_type": "execute_result",
     "data": {
      "text/plain": [
       "100"
      ]
     },
     "metadata": {},
     "execution_count": 57
    }
   ],
   "source": [
    "# Tuple unpacking\n",
    "length, width = (100, 200)\n",
    "length"
   ]
  },
  {
   "cell_type": "code",
   "execution_count": 58,
   "metadata": {},
   "outputs": [],
   "source": [
    "# List of tuples\n",
    "students = [\n",
    "    (\"kim\", 10),\n",
    "    (\"john\", 12),\n",
    "    (\"mark\", 8),\n",
    "    (\"nina\", 19)\n",
    "]"
   ]
  },
  {
   "source": [
    "# Set (Unordered sequences)\n",
    "set are mutable unordered collections of unique elements\n",
    "* set are defined with curly brackets\n",
    "* you can create a set from a list: it will remove duplicates\n",
    "* be careful : elements can be displayed in a different order each time\n",
    "* set have a faster access time than list"
   ],
   "cell_type": "markdown",
   "metadata": {}
  },
  {
   "cell_type": "code",
   "execution_count": 61,
   "metadata": {},
   "outputs": [],
   "source": [
    "countries_ = {'France', 'UK', 'USA', 'China', 'India'}"
   ]
  },
  {
   "cell_type": "code",
   "execution_count": 62,
   "metadata": {},
   "outputs": [
    {
     "output_type": "execute_result",
     "data": {
      "text/plain": [
       "{'China', 'France', 'India', 'Russia', 'UK', 'USA'}"
      ]
     },
     "metadata": {},
     "execution_count": 62
    }
   ],
   "source": [
    "# .add(): to add element.\n",
    "countries_.add('Russia')\n",
    "countries_"
   ]
  },
  {
   "cell_type": "code",
   "execution_count": 63,
   "metadata": {},
   "outputs": [
    {
     "output_type": "execute_result",
     "data": {
      "text/plain": [
       "'France'"
      ]
     },
     "metadata": {},
     "execution_count": 63
    }
   ],
   "source": [
    "# .pop(): to remove randomly an element.\n",
    "countries_.pop()"
   ]
  },
  {
   "cell_type": "code",
   "execution_count": 64,
   "metadata": {},
   "outputs": [
    {
     "output_type": "execute_result",
     "data": {
      "text/plain": [
       "{'China', 'India', 'Russia', 'UK', 'USA'}"
      ]
     },
     "metadata": {},
     "execution_count": 64
    }
   ],
   "source": [
    "countries_"
   ]
  },
  {
   "cell_type": "code",
   "execution_count": 65,
   "metadata": {},
   "outputs": [
    {
     "output_type": "execute_result",
     "data": {
      "text/plain": [
       "['Tokyo', 'Berlin', 'Helsinki', 'Rio', 'Denver', 'Tokyo', 'Berlin']"
      ]
     },
     "metadata": {},
     "execution_count": 65
    }
   ],
   "source": [
    "# Using a set to remove duplicates from a list\n",
    "lst = ['Tokyo', 'Berlin', 'Helsinki', 'Rio', \"Denver\", \"Tokyo\", \"Berlin\"]\n",
    "lst"
   ]
  },
  {
   "cell_type": "code",
   "execution_count": 66,
   "metadata": {},
   "outputs": [
    {
     "output_type": "execute_result",
     "data": {
      "text/plain": [
       "{'Berlin', 'Denver', 'Helsinki', 'Rio', 'Tokyo'}"
      ]
     },
     "metadata": {},
     "execution_count": 66
    }
   ],
   "source": [
    "set(lst)"
   ]
  },
  {
   "cell_type": "code",
   "execution_count": 43,
   "metadata": {},
   "outputs": [
    {
     "output_type": "execute_result",
     "data": {
      "text/plain": [
       "{20, 30, 60}"
      ]
     },
     "metadata": {},
     "execution_count": 43
    }
   ],
   "source": [
    "# Arithmetic\n",
    "{10, 20, 30, 60} - {10, 40, 50} # item-wise"
   ]
  },
  {
   "cell_type": "code",
   "execution_count": 72,
   "metadata": {},
   "outputs": [
    {
     "output_type": "execute_result",
     "data": {
      "text/plain": [
       "{1, 2, 3, 4, 5, 6}"
      ]
     },
     "metadata": {},
     "execution_count": 72
    }
   ],
   "source": [
    "# Union \n",
    "{2, 4, 6} | {1, 3, 5}"
   ]
  },
  {
   "cell_type": "code",
   "execution_count": 73,
   "metadata": {},
   "outputs": [
    {
     "output_type": "execute_result",
     "data": {
      "text/plain": [
       "{2, 4}"
      ]
     },
     "metadata": {},
     "execution_count": 73
    }
   ],
   "source": [
    "# Intersection\n",
    "{1, 2, 3, 4} &  {2, 4, 6, 8}"
   ]
  },
  {
   "cell_type": "code",
   "execution_count": 75,
   "metadata": {},
   "outputs": [
    {
     "output_type": "execute_result",
     "data": {
      "text/plain": [
       "False"
      ]
     },
     "metadata": {},
     "execution_count": 75
    }
   ],
   "source": [
    "# Is subset and is superset\n",
    "{5, 10} <= {5, 10, 15, 20}"
   ]
  },
  {
   "source": [
    "# Dict (key-value)"
   ],
   "cell_type": "markdown",
   "metadata": {}
  },
  {
   "cell_type": "code",
   "execution_count": 55,
   "metadata": {},
   "outputs": [],
   "source": [
    "# Example\n",
    "grades = {\n",
    "    'ann': [6, 7, 10],\n",
    "    'mary': 16,\n",
    "    'george': 12,\n",
    "    'william': 11\n",
    "}"
   ]
  },
  {
   "cell_type": "code",
   "execution_count": 57,
   "metadata": {},
   "outputs": [
    {
     "output_type": "execute_result",
     "data": {
      "text/plain": [
       "6"
      ]
     },
     "metadata": {},
     "execution_count": 57
    }
   ],
   "source": [
    "grades['ann'][0]"
   ]
  },
  {
   "cell_type": "code",
   "execution_count": 53,
   "metadata": {},
   "outputs": [
    {
     "output_type": "execute_result",
     "data": {
      "text/plain": [
       "True"
      ]
     },
     "metadata": {},
     "execution_count": 53
    }
   ],
   "source": [
    "'mary' in grades.keys()"
   ]
  },
  {
   "cell_type": "code",
   "execution_count": 58,
   "metadata": {},
   "outputs": [
    {
     "output_type": "stream",
     "name": "stdout",
     "text": [
      "[6, 7, 10]\n{'ann': [6, 7, 10], 'mary': 16, 'george': 12, 'william': 11, 'tom': 12}\n"
     ]
    }
   ],
   "source": [
    "# Access the value for a given key\n",
    "print(grades['ann'])\n",
    "# Insert a new value\n",
    "grades['tom'] = 12\n",
    "print(grades)"
   ]
  },
  {
   "cell_type": "code",
   "execution_count": 94,
   "metadata": {},
   "outputs": [
    {
     "output_type": "execute_result",
     "data": {
      "text/plain": [
       "16"
      ]
     },
     "metadata": {},
     "execution_count": 94
    }
   ],
   "source": [
    "grades.get('mary')"
   ]
  },
  {
   "source": [
    "## Useful Methods\n",
    "![dict-method.jpeg](./images/dict-method.png)"
   ],
   "cell_type": "markdown",
   "metadata": {}
  },
  {
   "cell_type": "code",
   "execution_count": 3,
   "metadata": {},
   "outputs": [
    {
     "output_type": "execute_result",
     "data": {
      "text/plain": [
       "dict_keys(['ann', 'mary', 'george', 'william'])"
      ]
     },
     "metadata": {},
     "execution_count": 3
    }
   ],
   "source": [
    "grades.keys()"
   ]
  },
  {
   "cell_type": "code",
   "execution_count": 59,
   "metadata": {},
   "outputs": [
    {
     "output_type": "execute_result",
     "data": {
      "text/plain": [
       "dict_values([[6, 7, 10], 16, 12, 11, 12])"
      ]
     },
     "metadata": {},
     "execution_count": 59
    }
   ],
   "source": [
    "grades.values()"
   ]
  },
  {
   "cell_type": "code",
   "execution_count": 60,
   "metadata": {},
   "outputs": [
    {
     "output_type": "execute_result",
     "data": {
      "text/plain": [
       "dict_items([('ann', [6, 7, 10]), ('mary', 16), ('george', 12), ('william', 11), ('tom', 12)])"
      ]
     },
     "metadata": {},
     "execution_count": 60
    }
   ],
   "source": [
    "grades.items()"
   ]
  },
  {
   "cell_type": "code",
   "execution_count": 61,
   "metadata": {},
   "outputs": [],
   "source": [
    "furniture = {\n",
    "    'table': {'length': 100,\n",
    "              'width': 57},\n",
    "    'chair': {'length': 150,\n",
    "              'width': 78},\n",
    "    'closet': {'length': 200,\n",
    "               'width': 140}\n",
    "}"
   ]
  },
  {
   "cell_type": "code",
   "execution_count": 62,
   "metadata": {},
   "outputs": [
    {
     "output_type": "execute_result",
     "data": {
      "text/plain": [
       "dict_keys(['table', 'chair', 'closet'])"
      ]
     },
     "metadata": {},
     "execution_count": 62
    }
   ],
   "source": [
    "furniture.keys()"
   ]
  },
  {
   "cell_type": "code",
   "execution_count": 63,
   "metadata": {},
   "outputs": [
    {
     "output_type": "execute_result",
     "data": {
      "text/plain": [
       "{'length': 100, 'width': 57}"
      ]
     },
     "metadata": {},
     "execution_count": 63
    }
   ],
   "source": [
    "furniture['table']"
   ]
  },
  {
   "cell_type": "code",
   "execution_count": 64,
   "metadata": {},
   "outputs": [
    {
     "output_type": "execute_result",
     "data": {
      "text/plain": [
       "100"
      ]
     },
     "metadata": {},
     "execution_count": 64
    }
   ],
   "source": [
    "furniture['table']['length']"
   ]
  },
  {
   "cell_type": "code",
   "execution_count": null,
   "metadata": {},
   "outputs": [],
   "source": []
  }
 ]
}