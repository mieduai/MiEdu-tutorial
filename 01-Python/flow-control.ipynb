{
 "metadata": {
  "language_info": {
   "codemirror_mode": {
    "name": "ipython",
    "version": 3
   },
   "file_extension": ".py",
   "mimetype": "text/x-python",
   "name": "python",
   "nbconvert_exporter": "python",
   "pygments_lexer": "ipython3",
   "version": "3.8.3"
  },
  "orig_nbformat": 4,
  "kernelspec": {
   "name": "python3",
   "display_name": "Python 3.8.3 64-bit (conda)"
  },
  "interpreter": {
   "hash": "0af6d0490f2597823f87d92aa5eca07e4b752751b56387b5dbca6d3197d35149"
  }
 },
 "nbformat": 4,
 "nbformat_minor": 2,
 "cells": [
  {
   "source": [
    "# Python Control Flows\n",
    "* Programming = Step-by-step instruction for a machine to do your tasks\n",
    "* Your program = Cooking recipe\n",
    "* Control flow is a fundametal ideas => What to do (rectangular shape) given a condition (diamond shape with YES/NO)\n",
    "\n",
    "**Note**: It's highly recommended to draw your flow before coding (think first, code later)"
   ],
   "cell_type": "markdown",
   "metadata": {}
  },
  {
   "source": [
    "![control-flow.jpeg](./images/control-flow.jpeg)\n",
    "\n",
    "Source: [www.automateboringstuff.com](https://automatetheboringstuff.com/)"
   ],
   "cell_type": "markdown",
   "metadata": {}
  },
  {
   "source": [
    "## Conditional Statements"
   ],
   "cell_type": "markdown",
   "metadata": {}
  },
  {
   "cell_type": "code",
   "execution_count": 3,
   "metadata": {},
   "outputs": [
    {
     "output_type": "stream",
     "name": "stdout",
     "text": [
      "What do you eat for breakfast?\n"
     ]
    }
   ],
   "source": [
    "# `if`condition must be followed by colon and the code to run must be properly indented\n",
    "time = 'morning'\n",
    "if time == 'morning':\n",
    "    print('What do you eat for breakfast?')"
   ]
  },
  {
   "cell_type": "code",
   "execution_count": 4,
   "metadata": {},
   "outputs": [
    {
     "output_type": "stream",
     "name": "stdout",
     "text": [
      "What do you eat for breakfast?\n"
     ]
    }
   ],
   "source": [
    "time = input()\n",
    "if time == 'morning':\n",
    "    print('What do you eat for breakfast?')"
   ]
  },
  {
   "cell_type": "code",
   "execution_count": 1,
   "metadata": {},
   "outputs": [
    {
     "output_type": "stream",
     "name": "stdout",
     "text": [
      "What do you eat for diner?\n"
     ]
    }
   ],
   "source": [
    "time = input()\n",
    "if time == 'morning':\n",
    "    print('What do you eat for your breakfast?')\n",
    "elif time == 'noon':\n",
    "    print('What do you eat for lunch?')\n",
    "elif time == 'afternoon':\n",
    "    print('What do you eat for tea time?')\n",
    "elif time == 'evening':\n",
    "    print('What do you eat for diner?')"
   ]
  },
  {
   "cell_type": "code",
   "execution_count": 8,
   "metadata": {},
   "outputs": [
    {
     "output_type": "stream",
     "name": "stdout",
     "text": [
      "We can't treat your demand. Please enter a correct time.\n"
     ]
    }
   ],
   "source": [
    "# More elegant : you can use a dictionary mapping condition - output\n",
    "time_switch = {\n",
    "    'morning': 'What do you eat for your breakfast?',\n",
    "    'noon': 'What do you eat for lunch?',\n",
    "    'afternoon': 'What do you eat for tea time?',\n",
    "    'evening': 'What do you eat for diner?'\n",
    "}\n",
    "time = input()\n",
    "print(time_switch.get(time, 'We can\\'t treat your demand. Please enter a correct time.'))"
   ]
  },
  {
   "source": [
    "Now, let's code this flow\n",
    "\n",
    "![control-flow.jpeg](./images/control-flow.jpeg)"
   ],
   "cell_type": "markdown",
   "metadata": {}
  },
  {
   "cell_type": "code",
   "execution_count": 4,
   "metadata": {},
   "outputs": [
    {
     "output_type": "stream",
     "name": "stdout",
     "text": [
      "Wait a while\n--- END ---\n"
     ]
    }
   ],
   "source": [
    "is_rain = input('Is raining?')\n",
    "if is_rain == 'Yes':\n",
    "    have_umbrella = input('Have umbrella?')\n",
    "    if have_umbrella == 'Yes':\n",
    "        print('Go Outside')\n",
    "    else: \n",
    "        print('Wait a while')\n",
    "else:\n",
    "    print('Go Outside')\n",
    "print('--- END ---')"
   ]
  },
  {
   "source": [
    "## Looping\n",
    "![python_for_loop.jpeg](./images/python_for_loop.jpeg)\n",
    "\n",
    "Source: [www.gangboard.com](https://www.gangboard.com/blog/)"
   ],
   "cell_type": "markdown",
   "metadata": {}
  },
  {
   "source": [
    "## List"
   ],
   "cell_type": "markdown",
   "metadata": {}
  },
  {
   "cell_type": "code",
   "execution_count": 7,
   "metadata": {},
   "outputs": [
    {
     "output_type": "stream",
     "name": "stdout",
     "text": [
      "index: 0 - grade: 12\nindex: 1 - grade: 10\nindex: 2 - grade: 18\nindex: 3 - grade: 4\nindex: 4 - grade: 17\nindex: 5 - grade: 11\nindex: 6 - grade: 14\nindex: 7 - grade: 15\n"
     ]
    }
   ],
   "source": [
    "# You can chose the name of the iteration variable. The easiest way is to choose the singular of the containers name.\n",
    "grades = [12, 10, 18, 4, 17, 11, 14, 15]\n",
    "for g in grades:\n",
    "    #print(grades.index(g))\n",
    "    print('index: {} - grade: {}'.format(grades.index(g), g))"
   ]
  },
  {
   "cell_type": "code",
   "execution_count": 20,
   "metadata": {},
   "outputs": [
    {
     "output_type": "stream",
     "name": "stdout",
     "text": [
      "Harry\nRon\nHermione\nDraco\nNeville\nSirius\nLuna\nLily\n"
     ]
    }
   ],
   "source": [
    "# You can use a `for` loop to iterate over list elements\n",
    "students = ['harry', 'ron', 'hermione', 'draco', 'neville', 'sirius', 'luna', 'lily']\n",
    "for student in students: \n",
    "    print(student.capitalize())"
   ]
  },
  {
   "cell_type": "code",
   "execution_count": 10,
   "metadata": {},
   "outputs": [
    {
     "output_type": "stream",
     "name": "stdout",
     "text": [
      "Ananas is a fruit\nBanana is a fruit\nChicken is not a fruit\nApple is a fruit\nGreen peas is not a fruit\nToothpaste is not a fruit\nPotatoes is not a fruit\n"
     ]
    }
   ],
   "source": [
    "# Be careful with the indentation\n",
    "grocery_list = ['ananas', 'banana', 'chicken', 'apple', 'green peas', 'toothpaste', 'potatoes']\n",
    "fruits = ['ananas', 'banana', 'apple', 'pear']\n",
    "for grocery in grocery_list:\n",
    "    if grocery in fruits:\n",
    "        print(f'{grocery.capitalize()} is a fruit')\n",
    "    else:\n",
    "        print(f'{grocery.capitalize()} is not a fruit')"
   ]
  },
  {
   "cell_type": "code",
   "execution_count": 12,
   "metadata": {},
   "outputs": [
    {
     "output_type": "stream",
     "name": "stdout",
     "text": [
      "0- Winter is coming\n1- Winter is coming\n2- Winter is coming\n3- Winter is coming\n4- Winter is coming\n"
     ]
    }
   ],
   "source": [
    "# Be careful : the upper bound of the range is exclusive.\n",
    "for i in range(5):\n",
    "    print(f'{i}- Winter is coming')"
   ]
  },
  {
   "cell_type": "code",
   "execution_count": 13,
   "metadata": {},
   "outputs": [
    {
     "output_type": "stream",
     "name": "stdout",
     "text": [
      "d\na\nn\ng\nh\nu\ny\nn\nh\nm\na\ni\na\nn\nh\n"
     ]
    }
   ],
   "source": [
    "# `enumerate()` returns a tuple of index & element of the list.\n",
    "for i in 'danghuynhmaianh':\n",
    "    print(i)"
   ]
  },
  {
   "source": [
    "## enumerate()"
   ],
   "cell_type": "markdown",
   "metadata": {}
  },
  {
   "cell_type": "code",
   "execution_count": 19,
   "metadata": {},
   "outputs": [
    {
     "output_type": "stream",
     "name": "stdout",
     "text": [
      "index 0 - fruit: ananas\nindex 1 - fruit: banana\nindex 2 - fruit: apple\nindex 3 - fruit: pear\n"
     ]
    }
   ],
   "source": [
    "# `enumerate()` returns a tuple of index & element of the list.\n",
    "fruits = ['ananas', 'banana', 'apple', 'pear']\n",
    "for i, fruit in enumerate(fruits):\n",
    "    print('index {0} - fruit: {1}'.format(i, fruit))"
   ]
  },
  {
   "source": [
    "## zip()"
   ],
   "cell_type": "markdown",
   "metadata": {}
  },
  {
   "cell_type": "code",
   "execution_count": 24,
   "metadata": {},
   "outputs": [
    {
     "output_type": "stream",
     "name": "stdout",
     "text": [
      "ananas costs 2.34\nbanana costs 0.25\napple costs 0.15\npear costs 0.56\n"
     ]
    }
   ],
   "source": [
    "# `zip` allows you to combine elements at the same position in different sequences\n",
    "fruits = ['ananas', 'banana', 'apple', 'pear']\n",
    "prices = [2.34, 0.25, 0.15, 0.56]\n",
    "for p, f in zip(prices, fruits):\n",
    "    print('{} costs {}'.format(f, p))"
   ]
  },
  {
   "source": [
    "## break and continue\n",
    "![break-flow-control.jpeg](./images/break-flow-control.jpeg)\n",
    "\n",
    "\n",
    "Source: [www.gangboard.com](https://www.gangboard.com/blog/)"
   ],
   "cell_type": "markdown",
   "metadata": {}
  },
  {
   "cell_type": "code",
   "execution_count": 29,
   "metadata": {},
   "outputs": [
    {
     "output_type": "stream",
     "name": "stdout",
     "text": [
      "0\n"
     ]
    }
   ],
   "source": [
    "# `break` ends the loop\n",
    "for i in range(10):\n",
    "    if i == 1: ## Ctrl + /\n",
    "        break\n",
    "    print(i)"
   ]
  },
  {
   "cell_type": "code",
   "execution_count": 33,
   "metadata": {},
   "outputs": [
    {
     "output_type": "stream",
     "name": "stdout",
     "text": [
      "0\n1\n2\n3\n4\n6\n7\n8\n9\n"
     ]
    }
   ],
   "source": [
    "# `continue` skips an iteration of the loop\n",
    "for i in range (10):\n",
    "    if i == 5:\n",
    "        continue\n",
    "    print(i)"
   ]
  },
  {
   "source": [
    "## try and except\n",
    "![try-except.png](./images/try-except.png)\n",
    "\n",
    "Source: [realpython.com/python-exceptions/](https://realpython.com/python-exceptions/)"
   ],
   "cell_type": "markdown",
   "metadata": {}
  },
  {
   "cell_type": "code",
   "execution_count": 30,
   "metadata": {},
   "outputs": [
    {
     "output_type": "stream",
     "name": "stdout",
     "text": [
      "Harry\nHermione\nRon\n"
     ]
    },
    {
     "output_type": "error",
     "ename": "AttributeError",
     "evalue": "'float' object has no attribute 'capitalize'",
     "traceback": [
      "\u001b[0;31m---------------------------------------------------------------------------\u001b[0m",
      "\u001b[0;31mAttributeError\u001b[0m                            Traceback (most recent call last)",
      "\u001b[0;32m<ipython-input-30-7694e42b30bb>\u001b[0m in \u001b[0;36m<module>\u001b[0;34m\u001b[0m\n\u001b[1;32m      2\u001b[0m \u001b[0mmixed_lst\u001b[0m \u001b[0;34m=\u001b[0m \u001b[0;34m[\u001b[0m\u001b[0;34m\"harry\"\u001b[0m\u001b[0;34m,\u001b[0m \u001b[0;34m\"hermione\"\u001b[0m\u001b[0;34m,\u001b[0m \u001b[0;34m\"ron\"\u001b[0m\u001b[0;34m,\u001b[0m \u001b[0;36m9.75\u001b[0m\u001b[0;34m,\u001b[0m \u001b[0;34m\"molly\"\u001b[0m\u001b[0;34m]\u001b[0m\u001b[0;34m\u001b[0m\u001b[0;34m\u001b[0m\u001b[0m\n\u001b[1;32m      3\u001b[0m \u001b[0;32mfor\u001b[0m \u001b[0mname\u001b[0m \u001b[0;32min\u001b[0m \u001b[0mmixed_lst\u001b[0m\u001b[0;34m:\u001b[0m\u001b[0;34m\u001b[0m\u001b[0;34m\u001b[0m\u001b[0m\n\u001b[0;32m----> 4\u001b[0;31m     \u001b[0mprint\u001b[0m\u001b[0;34m(\u001b[0m\u001b[0mname\u001b[0m\u001b[0;34m.\u001b[0m\u001b[0mcapitalize\u001b[0m\u001b[0;34m(\u001b[0m\u001b[0;34m)\u001b[0m\u001b[0;34m)\u001b[0m\u001b[0;34m\u001b[0m\u001b[0;34m\u001b[0m\u001b[0m\n\u001b[0m",
      "\u001b[0;31mAttributeError\u001b[0m: 'float' object has no attribute 'capitalize'"
     ]
    }
   ],
   "source": [
    "# Trying to apply a string method to a float will return an error and stop the loop\n",
    "mixed_lst = [\"harry\", \"hermione\", \"ron\", 9.75, \"molly\"]\n",
    "for name in mixed_lst:\n",
    "    print(name.capitalize())"
   ]
  },
  {
   "cell_type": "code",
   "execution_count": 32,
   "metadata": {},
   "outputs": [
    {
     "output_type": "stream",
     "name": "stdout",
     "text": [
      "Harry\nHermione\nRon\n9.75 is not a string !\nMolly\n"
     ]
    }
   ],
   "source": [
    "# `try`and `except` allow you to deal with the error\n",
    "for name in mixed_lst:\n",
    "    try:\n",
    "        print(name.capitalize())\n",
    "    except:\n",
    "        print(\"{} is not a string !\".format(name))"
   ]
  },
  {
   "cell_type": "code",
   "execution_count": 34,
   "metadata": {},
   "outputs": [
    {
     "output_type": "stream",
     "name": "stdout",
     "text": [
      "Harry\nHermione\nRon\nUnexpected error: 'float' object has no attribute 'capitalize'\nMolly\n"
     ]
    }
   ],
   "source": [
    "# `try`and `except` allow you to deal with the error\n",
    "import sys\n",
    "for name in mixed_lst:\n",
    "    try:\n",
    "        print(name.capitalize())\n",
    "    except:\n",
    "        print(\"Unexpected error:\", sys.exc_info()[1])"
   ]
  },
  {
   "cell_type": "code",
   "execution_count": 39,
   "metadata": {},
   "outputs": [
    {
     "output_type": "stream",
     "name": "stdout",
     "text": [
      "Harry\nHermione\nRon\n9.75 is not a string !\nMolly\n"
     ]
    }
   ],
   "source": [
    "# `try`and `except` allow you to deal with the error\n",
    "for name in mixed_lst:\n",
    "    try:\n",
    "        print(name.capitalize())\n",
    "    except AttributeError: ##  add the reaction for different type of error\n",
    "        print(f\"{name} is not a string !\")"
   ]
  },
  {
   "source": [
    "## List Comprehension"
   ],
   "cell_type": "markdown",
   "metadata": {}
  },
  {
   "cell_type": "code",
   "execution_count": 43,
   "metadata": {},
   "outputs": [
    {
     "output_type": "stream",
     "name": "stdout",
     "text": [
      "[0, 1, 2, 3, 4, 5, 6, 7, 8, 9, 10, 11, 12, 13, 14, 15, 16, 17, 18, 19, 20]\n"
     ]
    }
   ],
   "source": [
    "# A very concise way to generate a `list` with a `for` loop\n",
    "my_list = [i for i in range(21)]\n",
    "print(my_list)"
   ]
  },
  {
   "cell_type": "code",
   "execution_count": 44,
   "metadata": {},
   "outputs": [
    {
     "output_type": "stream",
     "name": "stdout",
     "text": [
      "['This', 'is', 'the', 'most', 'useful', 'thing', 'for', 'natural', 'langage', 'processing']\n['most', 'useful', 'natural', 'langage', 'processing']\n"
     ]
    }
   ],
   "source": [
    "# Removing stop words in text processing\n",
    "sentence = \"This is the most useful thing for natural langage processing\"\n",
    "tokens = sentence.split()\n",
    "print(tokens)\n",
    "\n",
    "stop_words = ['this', 'the', 'is', 'a', 'for', 'thing' ]\n",
    "meaningful_words = [word for word in tokens if word.lower() not in stop_words]\n",
    "print(meaningful_words)"
   ]
  },
  {
   "cell_type": "code",
   "execution_count": 36,
   "metadata": {},
   "outputs": [
    {
     "output_type": "execute_result",
     "data": {
      "text/plain": [
       "[0, 1, 4, 9, 16, 25, 36, 49, 64, 81]"
      ]
     },
     "metadata": {},
     "execution_count": 36
    }
   ],
   "source": [
    "[i ** 2 for i in range(10)]"
   ]
  },
  {
   "cell_type": "code",
   "execution_count": 45,
   "metadata": {},
   "outputs": [
    {
     "output_type": "stream",
     "name": "stdout",
     "text": [
      "[[1, 2, 3, 4, 5, 6, 7, 8, 9], [2, 4, 6, 8, 10, 12, 14, 16, 18], [3, 6, 9, 12, 15, 18, 21, 24, 27], [4, 8, 12, 16, 20, 24, 28, 32, 36], [5, 10, 15, 20, 25, 30, 35, 40, 45], [6, 12, 18, 24, 30, 36, 42, 48, 54], [7, 14, 21, 28, 35, 42, 49, 56, 63], [8, 16, 24, 32, 40, 48, 56, 64, 72], [9, 18, 27, 36, 45, 54, 63, 72, 81]]\n"
     ]
    }
   ],
   "source": [
    "# You can use nested list comprehensions\n",
    "multiplication_table = [[x * y  for y in range(10) if y != 0] for x in range(10) if x != 0]\n",
    "print(multiplication_table)"
   ]
  },
  {
   "source": [
    "## While: Indefinite Looping\n",
    "![while_loop.jpeg](./images/while_loop.jpeg)"
   ],
   "cell_type": "markdown",
   "metadata": {}
  },
  {
   "cell_type": "code",
   "execution_count": 39,
   "metadata": {},
   "outputs": [
    {
     "output_type": "stream",
     "name": "stdout",
     "text": [
      "1\n2\n3\n4\n5\n6\n7\n8\n9\n"
     ]
    }
   ],
   "source": [
    "# Do not forget to initiate and increment the iterator\n",
    "x = 1\n",
    "while x < 10:\n",
    "    print(x)\n",
    "    x += 1"
   ]
  },
  {
   "cell_type": "code",
   "execution_count": null,
   "metadata": {},
   "outputs": [],
   "source": [
    "# # Be careful of infinite `while` loops (when the condition is always `True`)\n",
    "# x = 1\n",
    "# while x > 0:\n",
    "#     answer = input(\"Do you think this loop is going to stop?\\n\")\n",
    "#     print(f\"Your answer: {answer}\")"
   ]
  },
  {
   "cell_type": "code",
   "execution_count": 1,
   "metadata": {},
   "outputs": [
    {
     "output_type": "stream",
     "name": "stdout",
     "text": [
      "No way! Give it another try.\n",
      "No way! Give it another try.\n",
      "Indeed, it stopped.\n"
     ]
    }
   ],
   "source": [
    "# You can also use a `break`statement\n",
    "while True:\n",
    "    answer = input(\"Do you think this loop is going to stop?\\n\")\n",
    "    if answer == \"yes\":\n",
    "        print(\"Indeed, it stopped.\")\n",
    "        break\n",
    "    else: \n",
    "        print(\"No way! Give it another try.\")"
   ]
  },
  {
   "source": [
    "![control-flow.jpeg](./images/control-flow.jpeg)"
   ],
   "cell_type": "markdown",
   "metadata": {}
  },
  {
   "cell_type": "code",
   "execution_count": 8,
   "metadata": {},
   "outputs": [
    {
     "output_type": "stream",
     "name": "stdout",
     "text": [
      "Wait a while\n",
      "Go Outside\n",
      "Go Outside\n",
      "--- END ---\n"
     ]
    }
   ],
   "source": [
    "is_rain = input('Is raining')\n",
    "go_out = False\n",
    "while is_rain == 'Yes' and go_out == False:\n",
    "    have_umbrella = input('Have umbrella?')\n",
    "    if have_umbrella == 'Yes':\n",
    "        go_out = True\n",
    "        print('Go Outside')\n",
    "    else: \n",
    "        print('Wait a while')\n",
    "        is_rain = input('Is raining')\n",
    "else:\n",
    "    go_out = True\n",
    "    print('Go Outside')\n",
    "print('--- END ---')"
   ]
  },
  {
   "cell_type": "code",
   "execution_count": null,
   "metadata": {},
   "outputs": [],
   "source": []
  }
 ]
}