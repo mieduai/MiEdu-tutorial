{
 "metadata": {
  "language_info": {
   "codemirror_mode": {
    "name": "ipython",
    "version": 3
   },
   "file_extension": ".py",
   "mimetype": "text/x-python",
   "name": "python",
   "nbconvert_exporter": "python",
   "pygments_lexer": "ipython3",
   "version": "3.8.3"
  },
  "orig_nbformat": 4,
  "kernelspec": {
   "name": "python3",
   "display_name": "Python 3.8.3 64-bit (conda)"
  },
  "interpreter": {
   "hash": "0af6d0490f2597823f87d92aa5eca07e4b752751b56387b5dbca6d3197d35149"
  }
 },
 "nbformat": 4,
 "nbformat_minor": 2,
 "cells": [
  {
   "source": [
    "# Object Oriented Programming (OOP)\n",
    "Like the name, the OOP is central on the object. \n",
    "* `class` is a formal description about an objects\n",
    "* Each object will have **attributes** (remember `.`) and **method** to go with it\n",
    "\n",
    "=> Everything is an object in Python\n",
    "\n",
    "* VietnameseCuisine is a class\n",
    "* Pho, Bun Bo Hue is an instance"
   ],
   "cell_type": "markdown",
   "metadata": {}
  },
  {
   "source": [
    "# Data Model\n",
    "\n",
    "> Source: [Data Model Python Docs](https://docs.python.org/3/reference/datamodel.html)\n",
    "\n",
    "* Objects are Python's Abstraction for Data \n",
    "* Objects will have type (class), identity, and values \n",
    "* For specific objects belongs to a specific class, they have corresponding behaviours of methods & functions"
   ],
   "cell_type": "markdown",
   "metadata": {}
  },
  {
   "source": [
    "# Define Class and Instance"
   ],
   "cell_type": "markdown",
   "metadata": {}
  },
  {
   "cell_type": "code",
   "execution_count": 2,
   "metadata": {},
   "outputs": [],
   "source": [
    "# Let's define a claas to represent Vietnamese Cuisince\n",
    "class VietnameseCuisine():\n",
    "    '''\n",
    "    An empty class representing dishes in Vietnamese Cuisine\n",
    "    '''\n",
    "    pass"
   ]
  },
  {
   "cell_type": "code",
   "execution_count": 3,
   "metadata": {},
   "outputs": [],
   "source": [
    "pho = VietnameseCuisine()\n",
    "bun_bo = VietnameseCuisine()"
   ]
  },
  {
   "cell_type": "code",
   "execution_count": 4,
   "metadata": {},
   "outputs": [
    {
     "output_type": "stream",
     "name": "stdout",
     "text": [
      "False\n"
     ]
    }
   ],
   "source": [
    "print(pho == bun_bo)"
   ]
  },
  {
   "source": [
    "# Attributes\n",
    "* Attributes describe the characteristics of the class objects"
   ],
   "cell_type": "markdown",
   "metadata": {}
  },
  {
   "cell_type": "code",
   "execution_count": 8,
   "metadata": {},
   "outputs": [],
   "source": [
    "pho.meat = 'Beef'\n",
    "pho.soup = True\n",
    "pho.region = 'North'\n",
    "\n",
    "bun_bo.meat = 'Beef'\n",
    "bun_bo.soup = True \n",
    "bun_bo.region = 'Middle'"
   ]
  },
  {
   "cell_type": "code",
   "execution_count": 9,
   "metadata": {},
   "outputs": [
    {
     "output_type": "stream",
     "name": "stdout",
     "text": [
      "True\n"
     ]
    }
   ],
   "source": [
    "print(bun_bo.soup)"
   ]
  },
  {
   "cell_type": "code",
   "execution_count": 10,
   "metadata": {},
   "outputs": [
    {
     "output_type": "stream",
     "name": "stdout",
     "text": [
      "{'meat': 'Beef', 'soup': True, 'region': 'Middle'}\n"
     ]
    }
   ],
   "source": [
    "print(bun_bo.__dict__)"
   ]
  },
  {
   "source": [
    "# Methods \n",
    "* Methods represent an actions of the class objects\n",
    "* A method is different from a function in 02 things:\n",
    "    - It belongs to a specific class and defined within a class\n",
    "    - The first parameters in the definition of the method is refer tho the instance (`self`)"
   ],
   "cell_type": "markdown",
   "metadata": {}
  },
  {
   "cell_type": "code",
   "execution_count": 18,
   "metadata": {},
   "outputs": [],
   "source": [
    "class VietnameseCuisine():\n",
    "    def get_ingredients(self):\n",
    "        print(self.meat)"
   ]
  },
  {
   "cell_type": "code",
   "execution_count": 21,
   "metadata": {},
   "outputs": [
    {
     "output_type": "stream",
     "name": "stdout",
     "text": [
      "Beef\n"
     ]
    }
   ],
   "source": [
    "bun_bo = VietnameseCuisine()\n",
    "bun_bo.meat = 'Beef'\n",
    "bun_bo.soup = True \n",
    "bun_bo.region = 'Middle'\n",
    "bun_bo.get_ingredients()"
   ]
  },
  {
   "source": [
    "# Special methods\n",
    "- Start with double underscore `__init__` or `__str__`"
   ],
   "cell_type": "markdown",
   "metadata": {}
  },
  {
   "source": [
    "## `__init__` to define attributes "
   ],
   "cell_type": "markdown",
   "metadata": {}
  },
  {
   "cell_type": "code",
   "execution_count": 28,
   "metadata": {},
   "outputs": [],
   "source": [
    "class VietnameseCuisine():\n",
    "    def __init__(self, meat=None, soup='Unknown', region='Unknown'):\n",
    "        self.meat = meat\n",
    "        self.soup = soup \n",
    "        self.region = region "
   ]
  },
  {
   "cell_type": "code",
   "execution_count": 29,
   "metadata": {},
   "outputs": [],
   "source": [
    "bun_bo = VietnameseCuisine(meat='Beef', soup=True, region='Middle')"
   ]
  },
  {
   "cell_type": "code",
   "execution_count": 25,
   "metadata": {},
   "outputs": [
    {
     "output_type": "stream",
     "name": "stdout",
     "text": [
      "{'meat': 'Beef', 'soup': True, 'region': 'Middle'}\n"
     ]
    }
   ],
   "source": [
    "print(bun_bo.__dict__)"
   ]
  },
  {
   "source": [
    "## `__repr__` & `__str__` what Python display"
   ],
   "cell_type": "markdown",
   "metadata": {}
  },
  {
   "cell_type": "code",
   "execution_count": 30,
   "metadata": {},
   "outputs": [
    {
     "output_type": "execute_result",
     "data": {
      "text/plain": [
       "<__main__.VietnameseCuisine at 0x7f7f8f2c4700>"
      ]
     },
     "metadata": {},
     "execution_count": 30
    }
   ],
   "source": [
    "bun_bo "
   ]
  },
  {
   "cell_type": "code",
   "execution_count": 31,
   "metadata": {},
   "outputs": [
    {
     "output_type": "stream",
     "name": "stdout",
     "text": [
      "<__main__.VietnameseCuisine object at 0x7f7f8f2c4700>\n"
     ]
    }
   ],
   "source": [
    "print(bun_bo)"
   ]
  },
  {
   "cell_type": "code",
   "execution_count": 32,
   "metadata": {},
   "outputs": [],
   "source": [
    "class VietnameseCuisine():\n",
    "    def __init__(self, name=None, meat=None, soup='Unknown', region='Unknown'):\n",
    "        self.name = name\n",
    "        self.meat = meat\n",
    "        self.soup = soup \n",
    "        self.region = region \n",
    "    def __repr__(self):\n",
    "        return self.name \n",
    "    def __str__(self):\n",
    "        return 'This is Vietnamese Cuisine: {}'.format(self.name)"
   ]
  },
  {
   "cell_type": "code",
   "execution_count": 33,
   "metadata": {},
   "outputs": [
    {
     "output_type": "execute_result",
     "data": {
      "text/plain": [
       "Bun Bo"
      ]
     },
     "metadata": {},
     "execution_count": 33
    }
   ],
   "source": [
    "bun_bo = VietnameseCuisine(name='Bun Bo', meat='Beef', soup=True, region='Middle')\n",
    "bun_bo"
   ]
  },
  {
   "cell_type": "code",
   "execution_count": 34,
   "metadata": {},
   "outputs": [
    {
     "output_type": "stream",
     "name": "stdout",
     "text": [
      "This is Vietnamese Cuisine: Bun Bo\n"
     ]
    }
   ],
   "source": [
    "print(bun_bo)"
   ]
  },
  {
   "source": [
    "## `__add__`"
   ],
   "cell_type": "markdown",
   "metadata": {}
  },
  {
   "cell_type": "code",
   "execution_count": 35,
   "metadata": {},
   "outputs": [],
   "source": [
    "class VietnameseCuisine():\n",
    "    def __init__(self, name=None, meat=None, soup='Unknown', region='Unknown'):\n",
    "        self.name = name\n",
    "        self.meat = meat\n",
    "        self.soup = soup \n",
    "        self.region = region \n",
    "    def __repr__(self):\n",
    "        return self.name \n",
    "    def __str__(self):\n",
    "        return 'This is Vietnamese Cuisine: {}'.format(self.name)\n",
    "    def __add__(self, other):\n",
    "        return 'This two dishes would be good to have together: {} and {}'.format(self.name, other.name)\n"
   ]
  },
  {
   "cell_type": "code",
   "execution_count": 36,
   "metadata": {},
   "outputs": [],
   "source": [
    "bun_bo = VietnameseCuisine(name='Bun Bo', meat='Beef', soup=True, region='Middle')\n",
    "pho = VietnameseCuisine(name='Pho', meat='Beef', soup=True, region='North')"
   ]
  },
  {
   "cell_type": "code",
   "execution_count": 37,
   "metadata": {},
   "outputs": [
    {
     "output_type": "execute_result",
     "data": {
      "text/plain": [
       "'This two dishes would be good to have together: Bun Bo and Pho'"
      ]
     },
     "metadata": {},
     "execution_count": 37
    }
   ],
   "source": [
    "bun_bo + pho "
   ]
  },
  {
   "source": [
    "# Inheritance & Overriding\n",
    "* A class can inherit attributes and behaviors methods from another class (parent/superclass)\n",
    "* A class that inherits from a superclass called subclass (child) class"
   ],
   "cell_type": "markdown",
   "metadata": {}
  },
  {
   "source": [
    "## Subclass (Inherit)"
   ],
   "cell_type": "markdown",
   "metadata": {}
  },
  {
   "cell_type": "code",
   "execution_count": 52,
   "metadata": {},
   "outputs": [],
   "source": [
    "class VietnameseSoup(VietnameseCuisine):\n",
    "    pass "
   ]
  },
  {
   "cell_type": "code",
   "execution_count": 43,
   "metadata": {},
   "outputs": [],
   "source": [
    "banh_canh = VietnameseSoup(name='Banh Canh', soup=True)"
   ]
  },
  {
   "cell_type": "code",
   "execution_count": 44,
   "metadata": {},
   "outputs": [
    {
     "output_type": "stream",
     "name": "stdout",
     "text": [
      "This is Vietnamese Cuisine: Banh Canh\n"
     ]
    }
   ],
   "source": [
    "print(banh_canh) ## All methods from superclass is inherited"
   ]
  },
  {
   "cell_type": "code",
   "execution_count": 47,
   "metadata": {},
   "outputs": [
    {
     "output_type": "execute_result",
     "data": {
      "text/plain": [
       "True"
      ]
     },
     "metadata": {},
     "execution_count": 47
    }
   ],
   "source": [
    "isinstance(banh_canh, VietnameseSoup) # an instance belongs to its defined class"
   ]
  },
  {
   "cell_type": "code",
   "execution_count": 49,
   "metadata": {},
   "outputs": [
    {
     "output_type": "execute_result",
     "data": {
      "text/plain": [
       "False"
      ]
     },
     "metadata": {},
     "execution_count": 49
    }
   ],
   "source": [
    "isinstance(bun_bo, VietnameseSoup) # instance of superclass not belong to subclass"
   ]
  },
  {
   "cell_type": "code",
   "execution_count": 50,
   "metadata": {},
   "outputs": [
    {
     "output_type": "execute_result",
     "data": {
      "text/plain": [
       "True"
      ]
     },
     "metadata": {},
     "execution_count": 50
    }
   ],
   "source": [
    "isinstance(banh_canh, VietnameseCuisine) # instance of subclass belongs to superclass"
   ]
  },
  {
   "source": [
    "## Overriding\n",
    "* Allow a subclass to have a different implementation of a methods that already defined in superclass "
   ],
   "cell_type": "markdown",
   "metadata": {}
  },
  {
   "cell_type": "code",
   "execution_count": 53,
   "metadata": {},
   "outputs": [
    {
     "output_type": "stream",
     "name": "stdout",
     "text": [
      "This is Vietnamese Cuisine: Banh Canh\n"
     ]
    }
   ],
   "source": [
    "print(banh_canh)"
   ]
  },
  {
   "cell_type": "code",
   "execution_count": 56,
   "metadata": {},
   "outputs": [],
   "source": [
    "class VietnameseSoup(VietnameseCuisine):\n",
    "    def __str__(self):\n",
    "        return 'This is Vietnamese Soup: {}'.format(self.name)"
   ]
  },
  {
   "cell_type": "code",
   "execution_count": 57,
   "metadata": {},
   "outputs": [
    {
     "output_type": "stream",
     "name": "stdout",
     "text": [
      "This is Vietnamese Soup: Banh Canh\n"
     ]
    }
   ],
   "source": [
    "banh_canh = VietnameseSoup(name='Banh Canh', soup=True)\n",
    "print(banh_canh)"
   ]
  },
  {
   "cell_type": "code",
   "execution_count": 66,
   "metadata": {},
   "outputs": [],
   "source": [
    "# overide `__init__` by using the `super()` to retrive the parents `__init__()` and adding new attributes \n",
    "class VietnameseSoup(VietnameseCuisine):\n",
    "    def __init__(self, name=None, meat=None, soup='Unknown', region='Unknown'):\n",
    "        super().__init__(name, meat, soup, region)\n",
    "        self.soup = True"
   ]
  },
  {
   "cell_type": "code",
   "execution_count": 67,
   "metadata": {},
   "outputs": [
    {
     "output_type": "execute_result",
     "data": {
      "text/plain": [
       "{'name': 'Banh Canh', 'meat': None, 'soup': True, 'region': 'Unknown'}"
      ]
     },
     "metadata": {},
     "execution_count": 67
    }
   ],
   "source": [
    "banh_canh = VietnameseSoup(name='Banh Canh')\n",
    "banh_canh.__dict__"
   ]
  },
  {
   "source": [
    "# Encapsulation"
   ],
   "cell_type": "markdown",
   "metadata": {}
  },
  {
   "source": [
    "## Private Variables & Private methods \n",
    "* Restrict access to methods and variables in order to prevent data being modified by accident => **Escapsulation**"
   ],
   "cell_type": "markdown",
   "metadata": {}
  },
  {
   "cell_type": "code",
   "execution_count": 68,
   "metadata": {},
   "outputs": [],
   "source": [
    " # accessible only in their own class, but not from outside. Their name starts with a double underscore __\n",
    " class VietnameseCuisine():\n",
    "    def __init__(self, name=None, meat=None, soup='Unknown', region='Unknown'):\n",
    "        self.__name = name\n",
    "        self.__meat = meat\n",
    "        self.__soup = soup \n",
    "        self.__region = region \n",
    "    def __repr__(self):\n",
    "        return self.name \n",
    "    def __str__(self):\n",
    "        return 'This is Vietnamese Cuisine: {}'.format(self.name)\n",
    "    def __add__(self, other):\n",
    "        return 'This two dishes would be good to have together: {} and {}'.format(self.name, other.name)\n",
    "    def __get_ingredients(self):\n",
    "        print(self.__meat)\n"
   ]
  },
  {
   "cell_type": "code",
   "execution_count": 69,
   "metadata": {},
   "outputs": [],
   "source": [
    "bun_bo = VietnameseCuisine(name='Bun Bo', meat='Beef', soup=True, region='Middle')"
   ]
  },
  {
   "cell_type": "code",
   "execution_count": 71,
   "metadata": {},
   "outputs": [
    {
     "output_type": "error",
     "ename": "AttributeError",
     "evalue": "'VietnameseCuisine' object has no attribute '__name'",
     "traceback": [
      "\u001b[0;31m---------------------------------------------------------------------------\u001b[0m",
      "\u001b[0;31mAttributeError\u001b[0m                            Traceback (most recent call last)",
      "\u001b[0;32m<ipython-input-71-92d225470275>\u001b[0m in \u001b[0;36m<module>\u001b[0;34m\u001b[0m\n\u001b[0;32m----> 1\u001b[0;31m \u001b[0mbun_bo\u001b[0m\u001b[0;34m.\u001b[0m\u001b[0m__name\u001b[0m\u001b[0;34m\u001b[0m\u001b[0;34m\u001b[0m\u001b[0m\n\u001b[0m",
      "\u001b[0;31mAttributeError\u001b[0m: 'VietnameseCuisine' object has no attribute '__name'"
     ]
    }
   ],
   "source": [
    "bun_bo.__name"
   ]
  },
  {
   "cell_type": "code",
   "execution_count": 72,
   "metadata": {},
   "outputs": [
    {
     "output_type": "error",
     "ename": "AttributeError",
     "evalue": "'VietnameseCuisine' object has no attribute '__get_ingredients'",
     "traceback": [
      "\u001b[0;31m---------------------------------------------------------------------------\u001b[0m",
      "\u001b[0;31mAttributeError\u001b[0m                            Traceback (most recent call last)",
      "\u001b[0;32m<ipython-input-72-bc3fb95d4ccd>\u001b[0m in \u001b[0;36m<module>\u001b[0;34m\u001b[0m\n\u001b[0;32m----> 1\u001b[0;31m \u001b[0mbun_bo\u001b[0m\u001b[0;34m.\u001b[0m\u001b[0m__get_ingredients\u001b[0m\u001b[0;34m(\u001b[0m\u001b[0;34m)\u001b[0m\u001b[0;34m\u001b[0m\u001b[0;34m\u001b[0m\u001b[0m\n\u001b[0m",
      "\u001b[0;31mAttributeError\u001b[0m: 'VietnameseCuisine' object has no attribute '__get_ingredients'"
     ]
    }
   ],
   "source": [
    "bun_bo.__get_ingredients()"
   ]
  },
  {
   "source": [
    "## Properties\n",
    "To control the access to private variables"
   ],
   "cell_type": "markdown",
   "metadata": {}
  },
  {
   "cell_type": "code",
   "execution_count": 87,
   "metadata": {},
   "outputs": [],
   "source": [
    " class VietnameseCuisine():\n",
    "    def __init__(self, name=None, meat=None, soup='Unknown', region='Unknown'):\n",
    "        self.__name = name\n",
    "        self.__meat = meat\n",
    "        self.__soup = soup \n",
    "        self.__region = region \n",
    "    def __repr__(self):\n",
    "        return self.name \n",
    "    def __str__(self):\n",
    "        return 'This is Vietnamese Cuisine: {}'.format(self.name)\n",
    "    def __add__(self, other):\n",
    "        return 'This two dishes would be good to have together: {} and {}'.format(self.name, other.name)\n",
    "    @property ## This allow us to access a specific properties\n",
    "    def meat(self):\n",
    "        return self.__meat\n",
    "    @meat.setter ## This allow us to change a properties\n",
    "    def meat(self, meat):\n",
    "        self.__meat = meat "
   ]
  },
  {
   "cell_type": "code",
   "execution_count": 88,
   "metadata": {},
   "outputs": [],
   "source": [
    "bun_bo = VietnameseCuisine(name='Bun Bo', meat='Beef', soup=True, region='Middle')"
   ]
  },
  {
   "cell_type": "code",
   "execution_count": 89,
   "metadata": {},
   "outputs": [
    {
     "output_type": "error",
     "ename": "AttributeError",
     "evalue": "'VietnameseCuisine' object has no attribute '__meat'",
     "traceback": [
      "\u001b[0;31m---------------------------------------------------------------------------\u001b[0m",
      "\u001b[0;31mAttributeError\u001b[0m                            Traceback (most recent call last)",
      "\u001b[0;32m<ipython-input-89-dbb36a650004>\u001b[0m in \u001b[0;36m<module>\u001b[0;34m\u001b[0m\n\u001b[0;32m----> 1\u001b[0;31m \u001b[0mbun_bo\u001b[0m\u001b[0;34m.\u001b[0m\u001b[0m__meat\u001b[0m\u001b[0;34m\u001b[0m\u001b[0;34m\u001b[0m\u001b[0m\n\u001b[0m",
      "\u001b[0;31mAttributeError\u001b[0m: 'VietnameseCuisine' object has no attribute '__meat'"
     ]
    }
   ],
   "source": [
    "bun_bo.__meat "
   ]
  },
  {
   "cell_type": "code",
   "execution_count": 90,
   "metadata": {},
   "outputs": [
    {
     "output_type": "execute_result",
     "data": {
      "text/plain": [
       "'Beef'"
      ]
     },
     "metadata": {},
     "execution_count": 90
    }
   ],
   "source": [
    "bun_bo.meat "
   ]
  },
  {
   "cell_type": "code",
   "execution_count": 91,
   "metadata": {},
   "outputs": [],
   "source": [
    "bun_bo.meat = 'Chicken'"
   ]
  },
  {
   "cell_type": "code",
   "execution_count": 92,
   "metadata": {},
   "outputs": [
    {
     "output_type": "execute_result",
     "data": {
      "text/plain": [
       "'Chicken'"
      ]
     },
     "metadata": {},
     "execution_count": 92
    }
   ],
   "source": [
    "bun_bo.meat "
   ]
  },
  {
   "source": [
    "# Exercise Time"
   ],
   "cell_type": "markdown",
   "metadata": {}
  },
  {
   "cell_type": "code",
   "execution_count": null,
   "metadata": {},
   "outputs": [],
   "source": [
    "# Ex1. Create a Vehicle class with:\n",
    "## 1. max_speed and mileage instance attributes, seating_capacity\n",
    "## 2. method get_max_speed, return the max_speed \n",
    "class Vehicle():\n",
    "    # Replace the pass by YOUR CODE\n",
    "    pass "
   ]
  },
  {
   "cell_type": "code",
   "execution_count": null,
   "metadata": {},
   "outputs": [],
   "source": [
    "# Run the code below\n",
    "modelX = Vehicle(240, 18)\n",
    "print(modelX.max_speed)\n",
    "print(modelX.mileage)"
   ]
  },
  {
   "cell_type": "code",
   "execution_count": null,
   "metadata": {},
   "outputs": [],
   "source": [
    "# Ex2. Create a child class Bus that will inherit all of the variables and methods of the Vehicle class\n",
    "\n",
    "# YOUR CODE"
   ]
  },
  {
   "cell_type": "code",
   "execution_count": null,
   "metadata": {},
   "outputs": [],
   "source": [
    "# Run the code below\n",
    "school_bus = Bus('School Volvo', 180, 12)\n",
    "print(\"Vehicle Name:\", School_bus.name, \"Speed:\", School_bus.max_speed, \"Mileage:\", School_bus.mileage)"
   ]
  },
  {
   "cell_type": "code",
   "execution_count": null,
   "metadata": {},
   "outputs": [],
   "source": [
    "# Ex3. Class Inheritance\n",
    "## 1. Create the child class Bus, add the default seating_capacity = 50\n",
    "## 2. Write a method seating_capacity, pritn out 'The seating capacity of <name> is <capacity>'\n",
    "\n",
    "# YOUR CODE"
   ]
  },
  {
   "cell_type": "code",
   "execution_count": 93,
   "metadata": {},
   "outputs": [],
   "source": [
    "# Ex4. Method Inheritance\n",
    "## 1. On class Vehicle: write the method fare() to return the fare = capacity * 100\n",
    "## 2. On class Bus: overwrite the fare() output => add an extra 105 on the full fare as a maintenance charge"
   ]
  },
  {
   "cell_type": "code",
   "execution_count": null,
   "metadata": {},
   "outputs": [],
   "source": []
  }
 ]
}