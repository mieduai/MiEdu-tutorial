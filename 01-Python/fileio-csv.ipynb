{
 "metadata": {
  "language_info": {
   "codemirror_mode": {
    "name": "ipython",
    "version": 3
   },
   "file_extension": ".py",
   "mimetype": "text/x-python",
   "name": "python",
   "nbconvert_exporter": "python",
   "pygments_lexer": "ipython3",
   "version": "3.8.3"
  },
  "orig_nbformat": 4,
  "kernelspec": {
   "name": "python3",
   "display_name": "Python 3.8.3 64-bit (conda)"
  },
  "interpreter": {
   "hash": "0af6d0490f2597823f87d92aa5eca07e4b752751b56387b5dbca6d3197d35149"
  }
 },
 "nbformat": 4,
 "nbformat_minor": 2,
 "cells": [
  {
   "source": [
    "# File IO and CSV"
   ],
   "cell_type": "markdown",
   "metadata": {}
  },
  {
   "source": [
    "# Sources of Public Data\n",
    "* [GoogleTrends/data](https://github.com/GoogleTrends/data)\n",
    "* [Kaggle Datasets](https://www.kaggle.com/datasets)\n",
    "\n",
    "You can directly download from the URL of the datasets. \n",
    "\n",
    "![curl_github_csv.png](./images/curl_github_csv.png)"
   ],
   "cell_type": "markdown",
   "metadata": {}
  },
  {
   "cell_type": "code",
   "execution_count": 4,
   "metadata": {},
   "outputs": [
    {
     "output_type": "stream",
     "name": "stdout",
     "text": [
      "/Users/danghuynhmaianh/Documents/GitHub/MiEdu-tutorial/01-Python\n"
     ]
    }
   ],
   "source": [
    "!pwd #TODO: What ! enable us?"
   ]
  },
  {
   "cell_type": "code",
   "execution_count": 8,
   "metadata": {},
   "outputs": [],
   "source": [
    "!mkdir data "
   ]
  },
  {
   "cell_type": "code",
   "execution_count": 9,
   "metadata": {},
   "outputs": [
    {
     "output_type": "stream",
     "name": "stdout",
     "text": [
      "  % Total    % Received % Xferd  Average Speed   Time    Time     Time  Current\n",
      "                                 Dload  Upload   Total   Spent    Left  Speed\n",
      "100  3244  100  3244    0     0   6007      0 --:--:-- --:--:-- --:--:--  6007\n"
     ]
    }
   ],
   "source": [
    "!curl https://raw.githubusercontent.com/GoogleTrends/data/master/20150528_FIFA.csv > data/20150528_FIFA.csv"
   ]
  },
  {
   "cell_type": "code",
   "execution_count": 10,
   "metadata": {},
   "outputs": [
    {
     "output_type": "stream",
     "name": "stdout",
     "text": [
      "20150528_FIFA.csv\n"
     ]
    }
   ],
   "source": [
    "!ls data "
   ]
  },
  {
   "source": [
    "# Working with Directories\n",
    "\n",
    "* Repo should be well-structured. Normally, we put all data files into one folders\n",
    "* `./`: prefix of path to files in current folder\n",
    "* `../`: prefix of path to files in parent folder\n",
    "* `../..`: prefix of path to files in tree layer beyond \n",
    "\n",
    "> Though you can always right-click on VSCode => Relative Paths"
   ],
   "cell_type": "markdown",
   "metadata": {}
  },
  {
   "cell_type": "code",
   "execution_count": null,
   "metadata": {},
   "outputs": [],
   "source": [
    "# TODO: Why Relatvies?"
   ]
  },
  {
   "cell_type": "code",
   "execution_count": 67,
   "metadata": {},
   "outputs": [
    {
     "output_type": "stream",
     "name": "stdout",
     "text": [
      "\u001b[34mdata\u001b[m\u001b[m                    flow-control.ipynb      oop.ipynb\ndata-struct.ipynb       functions-modules.ipynb\nfileio-csv.ipynb        \u001b[34mimages\u001b[m\u001b[m\n"
     ]
    }
   ],
   "source": [
    "!ls "
   ]
  },
  {
   "source": [
    "* WINDOW: Use `\\` rather than `/` as in Mac or Linux\n",
    "* We can use `os.path` to make the cite for flexible (don't need to change / and \\)"
   ],
   "cell_type": "markdown",
   "metadata": {}
  },
  {
   "cell_type": "code",
   "execution_count": 68,
   "metadata": {},
   "outputs": [
    {
     "output_type": "execute_result",
     "data": {
      "text/plain": [
       "'data/20150528_FIFA.csv'"
      ]
     },
     "metadata": {},
     "execution_count": 68
    }
   ],
   "source": [
    "import os\n",
    "data_folder = 'data'\n",
    "file_name = '20150528_FIFA.csv'\n",
    "os.path.join(data_folder, file_name)"
   ]
  },
  {
   "cell_type": "code",
   "execution_count": 72,
   "metadata": {},
   "outputs": [
    {
     "output_type": "stream",
     "name": "stdout",
     "text": [
      "/Users/danghuynhmaianh/Documents/GitHub/MiEdu-tutorial/01-Python\n"
     ]
    }
   ],
   "source": [
    "print(os.getcwd())"
   ]
  },
  {
   "cell_type": "code",
   "execution_count": 78,
   "metadata": {},
   "outputs": [
    {
     "output_type": "stream",
     "name": "stdout",
     "text": [
      "['flow-control.ipynb', 'images', 'oop.ipynb', 'functions-modules.ipynb', 'fileio-csv.ipynb', 'data-struct.ipynb', 'data']\n['.DS_Store', '01-Python', 'README.md', '00-Git-Terminal', '.git']\n['airflow-tutorial', 'training-data-analyst', 'haimuoibay-solutions', '.DS_Store', 'dataCRACY', 'streamlit-data-glimpse', 'automate-sandbox', 'langs-learnings', 'music-analytics', 'atom-assignments', '.ipynb_checkpoints', 'ArtofData', 'MiEdu-tutorial', 'practice-makes-perfect', 'ArtofStatistics']\n"
     ]
    }
   ],
   "source": [
    "print(os.listdir('.'))\n",
    "print(os.listdir('..'))\n",
    "print(os.listdir('../..')) # Notice: It's not ..."
   ]
  },
  {
   "source": [
    "# Opening & Closing Files"
   ],
   "cell_type": "markdown",
   "metadata": {}
  },
  {
   "source": [
    "## Open the file\n",
    "`open()` has several options you can pass as arguments :\n",
    "\n",
    "* `r` for reading mode\n",
    "* `w` or `a` for writing mode\n",
    "* `t` for text files\n",
    "* `b` for binary files (= everything that is not text: image, sound, compresed file, etc...)\n",
    "\n",
    "The default mode is `rt` = reading text."
   ],
   "cell_type": "markdown",
   "metadata": {}
  },
  {
   "cell_type": "code",
   "execution_count": 69,
   "metadata": {},
   "outputs": [],
   "source": [
    "data_folder = 'data'\n",
    "file_name = '20150528_FIFA.csv'\n",
    "file_path = os.path.join(data_folder, file_name)\n",
    "file_input = open(file_path)"
   ]
  },
  {
   "cell_type": "code",
   "execution_count": 70,
   "metadata": {},
   "outputs": [
    {
     "output_type": "stream",
     "name": "stdout",
     "text": [
      "<_io.TextIOWrapper name='data/20150528_FIFA.csv' mode='r' encoding='UTF-8'>\n"
     ]
    }
   ],
   "source": [
    "print(file_input)"
   ]
  },
  {
   "source": [
    "## Close the file \n",
    "Once you're done using the file don't forget to close it. Closing it will free system ressources to be used elsewhere. Any further attemps to use the file object will fail.\n"
   ],
   "cell_type": "markdown",
   "metadata": {}
  },
  {
   "cell_type": "code",
   "execution_count": 19,
   "metadata": {},
   "outputs": [],
   "source": [
    "file_input.close()"
   ]
  },
  {
   "source": [
    "But, People usually forget to close their files. Therefore, the best pratice is to open your files using a `with` statement: it will close the file automatically once your code has been executed."
   ],
   "cell_type": "markdown",
   "metadata": {}
  },
  {
   "cell_type": "code",
   "execution_count": null,
   "metadata": {},
   "outputs": [],
   "source": [
    "with open(file_path) as f: ## Alias => We will refer to the file_input as f\n",
    "    pass"
   ]
  },
  {
   "source": [
    "# Reading files "
   ],
   "cell_type": "markdown",
   "metadata": {}
  },
  {
   "cell_type": "code",
   "execution_count": 23,
   "metadata": {},
   "outputs": [
    {
     "output_type": "error",
     "ename": "UnicodeDecodeError",
     "evalue": "'utf-8' codec can't decode bytes in position 645-646: invalid continuation byte",
     "traceback": [
      "\u001b[0;31m---------------------------------------------------------------------------\u001b[0m",
      "\u001b[0;31mUnicodeDecodeError\u001b[0m                        Traceback (most recent call last)",
      "\u001b[0;32m<ipython-input-23-349d9fe28a24>\u001b[0m in \u001b[0;36m<module>\u001b[0;34m\u001b[0m\n\u001b[1;32m      1\u001b[0m \u001b[0;32mwith\u001b[0m \u001b[0mopen\u001b[0m\u001b[0;34m(\u001b[0m\u001b[0mfile_path\u001b[0m\u001b[0;34m)\u001b[0m \u001b[0;32mas\u001b[0m \u001b[0mf\u001b[0m\u001b[0;34m:\u001b[0m\u001b[0;34m\u001b[0m\u001b[0;34m\u001b[0m\u001b[0m\n\u001b[0;32m----> 2\u001b[0;31m     \u001b[0mdata\u001b[0m \u001b[0;34m=\u001b[0m \u001b[0mf\u001b[0m\u001b[0;34m.\u001b[0m\u001b[0mread\u001b[0m\u001b[0;34m(\u001b[0m\u001b[0;34m)\u001b[0m\u001b[0;34m\u001b[0m\u001b[0;34m\u001b[0m\u001b[0m\n\u001b[0m\u001b[1;32m      3\u001b[0m \u001b[0mdata\u001b[0m\u001b[0;34m\u001b[0m\u001b[0;34m\u001b[0m\u001b[0m\n",
      "\u001b[0;32m~/.julia/conda/3/lib/python3.8/codecs.py\u001b[0m in \u001b[0;36mdecode\u001b[0;34m(self, input, final)\u001b[0m\n\u001b[1;32m    320\u001b[0m         \u001b[0;31m# decode input (taking the buffer into account)\u001b[0m\u001b[0;34m\u001b[0m\u001b[0;34m\u001b[0m\u001b[0;34m\u001b[0m\u001b[0m\n\u001b[1;32m    321\u001b[0m         \u001b[0mdata\u001b[0m \u001b[0;34m=\u001b[0m \u001b[0mself\u001b[0m\u001b[0;34m.\u001b[0m\u001b[0mbuffer\u001b[0m \u001b[0;34m+\u001b[0m \u001b[0minput\u001b[0m\u001b[0;34m\u001b[0m\u001b[0;34m\u001b[0m\u001b[0m\n\u001b[0;32m--> 322\u001b[0;31m         \u001b[0;34m(\u001b[0m\u001b[0mresult\u001b[0m\u001b[0;34m,\u001b[0m \u001b[0mconsumed\u001b[0m\u001b[0;34m)\u001b[0m \u001b[0;34m=\u001b[0m \u001b[0mself\u001b[0m\u001b[0;34m.\u001b[0m\u001b[0m_buffer_decode\u001b[0m\u001b[0;34m(\u001b[0m\u001b[0mdata\u001b[0m\u001b[0;34m,\u001b[0m \u001b[0mself\u001b[0m\u001b[0;34m.\u001b[0m\u001b[0merrors\u001b[0m\u001b[0;34m,\u001b[0m \u001b[0mfinal\u001b[0m\u001b[0;34m)\u001b[0m\u001b[0;34m\u001b[0m\u001b[0;34m\u001b[0m\u001b[0m\n\u001b[0m\u001b[1;32m    323\u001b[0m         \u001b[0;31m# keep undecoded input until the next call\u001b[0m\u001b[0;34m\u001b[0m\u001b[0;34m\u001b[0m\u001b[0;34m\u001b[0m\u001b[0m\n\u001b[1;32m    324\u001b[0m         \u001b[0mself\u001b[0m\u001b[0;34m.\u001b[0m\u001b[0mbuffer\u001b[0m \u001b[0;34m=\u001b[0m \u001b[0mdata\u001b[0m\u001b[0;34m[\u001b[0m\u001b[0mconsumed\u001b[0m\u001b[0;34m:\u001b[0m\u001b[0;34m]\u001b[0m\u001b[0;34m\u001b[0m\u001b[0;34m\u001b[0m\u001b[0m\n",
      "\u001b[0;31mUnicodeDecodeError\u001b[0m: 'utf-8' codec can't decode bytes in position 645-646: invalid continuation byte"
     ]
    }
   ],
   "source": [
    "with open(file_path) as f:\n",
    "    data = f.read()\n",
    "data\n",
    "# ERROR: If in your text file have special characters ==> S��o Tom�_ and Pr��ncipe,151 (Normal life)"
   ]
  },
  {
   "cell_type": "code",
   "execution_count": 24,
   "metadata": {},
   "outputs": [
    {
     "output_type": "execute_result",
     "data": {
      "text/plain": [
       "'country,\"Rank of interest in Fifa, May 27-28, 2015\"\\nCayman Islands,1\\nMontserrat,2\\nTrinidad and Tobago,3\\nUruguay,4\\nCosta Rica,5\\nBritish Virgin Islands,6\\nCameroon,7\\nTogo,8\\nKuwait,9\\nGrenada,10\\nLiechtenstein,11\\nAntarctica,12\\nBermuda,13\\nBarbados,14\\nFalkland Islands,15\\nSaint Kitts and Nevis,16\\nSwitzerland,17\\nParaguay,18\\nHaiti,19\\nAntigua and Barbuda,20\\nGuinea-Bissau,21\\nTurks and Caicos Islands,22\\nDominica,23\\nNorth Korea,24\\nDemocratic Republic of the Congo,25\\nBotswana,26\\nGibraltar,27\\nQatar,28\\nAruba,29\\nSaint Lucia,30\\nPanama,31\\nSolomon Islands,32\\nNicaragua,33\\nLiberia,34\\nChad,35\\nSierra Leone,36\\nCuba,37\\nBurkina Faso,38\\nMali,39\\nZambia,40\\nJamaica,41\\nCåªte d\\'Ivoire,42\\nGuinea,43\\nHonduras,44\\nMonaco,45\\nAnguilla,46\\nCongo,47\\nBenin,48\\nCuraå\\x8dao,49\\nComoros,50\\nArgentina,51\\nGabon,52\\nEritrea,53\\nSaint Vincent and the Grenadines,54\\nEquatorial Guinea,55\\nBurundi,56\\nSwaziland,57\\nLuxembourg,58\\nIceland,59\\nUnited Kingdom,60\\nGhana,61\\nGuernsey,62\\nRwanda,63\\nBahrain,64\\nJersey,65\\nIreland,66\\nAngola,67\\nCentral African Republic,68\\nIsle of Man,69\\nEcuador,70\\nNiger,71\\nGermany,72\\nFaroe Islands,73\\nSouth Africa,74\\nUganda,75\\nCanada,76\\nBelize,77\\nThe Bahamas,78\\nVenezuela,79\\nMalawi,80\\nSaint Pierre and Miquelon,81\\nSenegal,82\\nMalta,83\\nSint Maarten,84\\nJordan,85\\nZimbabwe,86\\nDjibouti,87\\nChile,88\\nEl Salvador,89\\nColombia,90\\nU.S. Virgin Islands,91\\nSeychelles,92\\nGambia,93\\nBolivia,94\\nGuyana,95\\nGuatemala,96\\nNamibia,97\\nCape Verde,98\\nUnited States,99\\nLesotho,100\\nMauritania,101\\nCyprus,102\\nSaint Martin,103\\nAustria,104\\nMadagascar,105\\nVanuatu,106\\nNew Zealand,107\\nNetherlands,108\\nEthiopia,109\\nFrench Polynesia,110\\nNorway,111\\nFrance,112\\nMozambique,113\\nCaribbean Netherlands,114\\nSweden,115\\nSuriname,116\\nMorocco,117\\nMaldives,118\\nGuadeloupe,119\\nTonga,120\\nAndorra,121\\nAland Islands,122\\nUnited Arab Emirates,123\\nSouth Sudan,124\\nSaint Helena,125\\nSomalia,126\\nPortugal,127\\nMartinique,128\\nAustralia,129\\nMayotte,130\\nLebanon,131\\nNigeria,132\\nKenya,133\\nCook Islands,134\\nUzbekistan,135\\nMexico,136\\nFrench Guiana,137\\nSingapore,138\\nPeru,139\\nBhutan,140\\nMauritius,141\\nBelgium,142\\nFiji,143\\nNorthern Mariana Islands,144\\nSan Marino,145\\nTanzania,146\\nTunisia,147\\nAlgeria,148\\nGuam,149\\nTurkmenistan,150\\nSåÜo Tomå_ and PråÕncipe,151\\nPuerto Rico,152\\nHong Kong,153\\nBrazil,154\\nSaint Barthå_lemy,155\\nDenmark,156\\nSpain,157\\nTimor-Leste,158\\nIsrael,159\\nWallis and Futuna,160\\nSudan,161\\nDominican Republic,162\\nGreece,163\\nNew Caledonia,164\\nTajikistan,165\\nBrunei Darussalam,166\\nGreenland,167\\nLibya,168\\nSaudi Arabia,169\\nOman,170\\nReunion,171\\nMarshall Islands,172\\nItaly,173\\nEgypt,174\\nKazakhstan,175\\nNepal,176\\nPapua New Guinea,177\\nChina,178\\nMyanmar,179\\nVietnam,180\\nPalau,181\\nEstonia,182\\nCroatia,183\\nFinland,184\\nBulgaria,185\\nAlbania,186\\nGeorgia,187\\nRussia,188\\nIndonesia,189\\nCambodia,190\\nMontenegro,191\\nMacao,192\\nKyrgyzstan,193\\nUkraine,194\\nAfghanistan,195\\nLatvia,196\\nSlovenia,197\\nHungary,198\\nMoldova,199\\nMacedonia,200\\nCzech Republic,201\\nPoland,202\\nMicronesia,203\\nArmenia,204\\nAzerbaijan,205\\nSamoa,206\\nJapan,207\\nSlovakia,208\\nBangladesh,209\\nRomania,210\\nMongolia,211\\nBosnia and Herzegovina,212\\nPalestine,213\\nLithuania,214\\nSerbia,215\\nMalaysia,216\\nKosovo,217\\nBelarus,218\\nSyria,219\\nIraq,220\\nThailand,221\\nIran,222\\nLaos,223\\nSri Lanka,224\\nWestern Sahara,225\\nSouth Korea,226\\nPhilippines,227\\nPakistan,228\\nYemen,229\\nTaiwan,230\\nTurkey,231\\nIndia,232'"
      ]
     },
     "metadata": {},
     "execution_count": 24
    }
   ],
   "source": [
    "with open(file_path, encoding = 'ISO-8859-1') as f:\n",
    "    data = f.read()\n",
    "data"
   ]
  },
  {
   "cell_type": "code",
   "execution_count": 26,
   "metadata": {},
   "outputs": [
    {
     "output_type": "execute_result",
     "data": {
      "text/plain": [
       "3244"
      ]
     },
     "metadata": {},
     "execution_count": 26
    }
   ],
   "source": [
    "len(data) # Read as one string #TODO: Why 3244?"
   ]
  },
  {
   "cell_type": "code",
   "execution_count": 25,
   "metadata": {},
   "outputs": [
    {
     "output_type": "stream",
     "name": "stdout",
     "text": [
      "country,\"Rank of interest in Fifa, May 27-28, 2015\"\nCayman Islands,1\nMontserrat,2\nTrinidad and Tobago,3\nUruguay,4\nCosta Rica,5\nBritish Virgin Islands,6\nCameroon,7\nTogo,8\nKuwait,9\nGrenada,10\nLiechtenstein,11\nAntarctica,12\nBermuda,13\nBarbados,14\nFalkland Islands,15\nSaint Kitts and Nevis,16\nSwitzerland,17\nParaguay,18\nHaiti,19\nAntigua and Barbuda,20\nGuinea-Bissau,21\nTurks and Caicos Islands,22\nDominica,23\nNorth Korea,24\nDemocratic Republic of the Congo,25\nBotswana,26\nGibraltar,27\nQatar,28\nAruba,29\nSaint Lucia,30\nPanama,31\nSolomon Islands,32\nNicaragua,33\nLiberia,34\nChad,35\nSierra Leone,36\nCuba,37\nBurkina Faso,38\nMali,39\nZambia,40\nJamaica,41\nCåªte d'Ivoire,42\nGuinea,43\nHonduras,44\nMonaco,45\nAnguilla,46\nCongo,47\nBenin,48\nCuraåao,49\nComoros,50\nArgentina,51\nGabon,52\nEritrea,53\nSaint Vincent and the Grenadines,54\nEquatorial Guinea,55\nBurundi,56\nSwaziland,57\nLuxembourg,58\nIceland,59\nUnited Kingdom,60\nGhana,61\nGuernsey,62\nRwanda,63\nBahrain,64\nJersey,65\nIreland,66\nAngola,67\nCentral African Republic,68\nIsle of Man,69\nEcuador,70\nNiger,71\nGermany,72\nFaroe Islands,73\nSouth Africa,74\nUganda,75\nCanada,76\nBelize,77\nThe Bahamas,78\nVenezuela,79\nMalawi,80\nSaint Pierre and Miquelon,81\nSenegal,82\nMalta,83\nSint Maarten,84\nJordan,85\nZimbabwe,86\nDjibouti,87\nChile,88\nEl Salvador,89\nColombia,90\nU.S. Virgin Islands,91\nSeychelles,92\nGambia,93\nBolivia,94\nGuyana,95\nGuatemala,96\nNamibia,97\nCape Verde,98\nUnited States,99\nLesotho,100\nMauritania,101\nCyprus,102\nSaint Martin,103\nAustria,104\nMadagascar,105\nVanuatu,106\nNew Zealand,107\nNetherlands,108\nEthiopia,109\nFrench Polynesia,110\nNorway,111\nFrance,112\nMozambique,113\nCaribbean Netherlands,114\nSweden,115\nSuriname,116\nMorocco,117\nMaldives,118\nGuadeloupe,119\nTonga,120\nAndorra,121\nAland Islands,122\nUnited Arab Emirates,123\nSouth Sudan,124\nSaint Helena,125\nSomalia,126\nPortugal,127\nMartinique,128\nAustralia,129\nMayotte,130\nLebanon,131\nNigeria,132\nKenya,133\nCook Islands,134\nUzbekistan,135\nMexico,136\nFrench Guiana,137\nSingapore,138\nPeru,139\nBhutan,140\nMauritius,141\nBelgium,142\nFiji,143\nNorthern Mariana Islands,144\nSan Marino,145\nTanzania,146\nTunisia,147\nAlgeria,148\nGuam,149\nTurkmenistan,150\nSåÜo Tomå_ and PråÕncipe,151\nPuerto Rico,152\nHong Kong,153\nBrazil,154\nSaint Barthå_lemy,155\nDenmark,156\nSpain,157\nTimor-Leste,158\nIsrael,159\nWallis and Futuna,160\nSudan,161\nDominican Republic,162\nGreece,163\nNew Caledonia,164\nTajikistan,165\nBrunei Darussalam,166\nGreenland,167\nLibya,168\nSaudi Arabia,169\nOman,170\nReunion,171\nMarshall Islands,172\nItaly,173\nEgypt,174\nKazakhstan,175\nNepal,176\nPapua New Guinea,177\nChina,178\nMyanmar,179\nVietnam,180\nPalau,181\nEstonia,182\nCroatia,183\nFinland,184\nBulgaria,185\nAlbania,186\nGeorgia,187\nRussia,188\nIndonesia,189\nCambodia,190\nMontenegro,191\nMacao,192\nKyrgyzstan,193\nUkraine,194\nAfghanistan,195\nLatvia,196\nSlovenia,197\nHungary,198\nMoldova,199\nMacedonia,200\nCzech Republic,201\nPoland,202\nMicronesia,203\nArmenia,204\nAzerbaijan,205\nSamoa,206\nJapan,207\nSlovakia,208\nBangladesh,209\nRomania,210\nMongolia,211\nBosnia and Herzegovina,212\nPalestine,213\nLithuania,214\nSerbia,215\nMalaysia,216\nKosovo,217\nBelarus,218\nSyria,219\nIraq,220\nThailand,221\nIran,222\nLaos,223\nSri Lanka,224\nWestern Sahara,225\nSouth Korea,226\nPhilippines,227\nPakistan,228\nYemen,229\nTaiwan,230\nTurkey,231\nIndia,232\n"
     ]
    }
   ],
   "source": [
    "## Better display\n",
    "print(data)"
   ]
  },
  {
   "source": [
    "## Read line by line \n"
   ],
   "cell_type": "markdown",
   "metadata": {}
  },
  {
   "cell_type": "code",
   "execution_count": 27,
   "metadata": {},
   "outputs": [
    {
     "output_type": "execute_result",
     "data": {
      "text/plain": [
       "['country,\"Rank of interest in Fifa, May 27-28, 2015\"\\n',\n",
       " 'Cayman Islands,1\\n',\n",
       " 'Montserrat,2\\n',\n",
       " 'Trinidad and Tobago,3\\n',\n",
       " 'Uruguay,4\\n',\n",
       " 'Costa Rica,5\\n',\n",
       " 'British Virgin Islands,6\\n',\n",
       " 'Cameroon,7\\n',\n",
       " 'Togo,8\\n',\n",
       " 'Kuwait,9\\n',\n",
       " 'Grenada,10\\n',\n",
       " 'Liechtenstein,11\\n',\n",
       " 'Antarctica,12\\n',\n",
       " 'Bermuda,13\\n',\n",
       " 'Barbados,14\\n',\n",
       " 'Falkland Islands,15\\n',\n",
       " 'Saint Kitts and Nevis,16\\n',\n",
       " 'Switzerland,17\\n',\n",
       " 'Paraguay,18\\n',\n",
       " 'Haiti,19\\n',\n",
       " 'Antigua and Barbuda,20\\n',\n",
       " 'Guinea-Bissau,21\\n',\n",
       " 'Turks and Caicos Islands,22\\n',\n",
       " 'Dominica,23\\n',\n",
       " 'North Korea,24\\n',\n",
       " 'Democratic Republic of the Congo,25\\n',\n",
       " 'Botswana,26\\n',\n",
       " 'Gibraltar,27\\n',\n",
       " 'Qatar,28\\n',\n",
       " 'Aruba,29\\n',\n",
       " 'Saint Lucia,30\\n',\n",
       " 'Panama,31\\n',\n",
       " 'Solomon Islands,32\\n',\n",
       " 'Nicaragua,33\\n',\n",
       " 'Liberia,34\\n',\n",
       " 'Chad,35\\n',\n",
       " 'Sierra Leone,36\\n',\n",
       " 'Cuba,37\\n',\n",
       " 'Burkina Faso,38\\n',\n",
       " 'Mali,39\\n',\n",
       " 'Zambia,40\\n',\n",
       " 'Jamaica,41\\n',\n",
       " \"Cåªte d'Ivoire,42\\n\",\n",
       " 'Guinea,43\\n',\n",
       " 'Honduras,44\\n',\n",
       " 'Monaco,45\\n',\n",
       " 'Anguilla,46\\n',\n",
       " 'Congo,47\\n',\n",
       " 'Benin,48\\n',\n",
       " 'Curaå\\x8dao,49\\n',\n",
       " 'Comoros,50\\n',\n",
       " 'Argentina,51\\n',\n",
       " 'Gabon,52\\n',\n",
       " 'Eritrea,53\\n',\n",
       " 'Saint Vincent and the Grenadines,54\\n',\n",
       " 'Equatorial Guinea,55\\n',\n",
       " 'Burundi,56\\n',\n",
       " 'Swaziland,57\\n',\n",
       " 'Luxembourg,58\\n',\n",
       " 'Iceland,59\\n',\n",
       " 'United Kingdom,60\\n',\n",
       " 'Ghana,61\\n',\n",
       " 'Guernsey,62\\n',\n",
       " 'Rwanda,63\\n',\n",
       " 'Bahrain,64\\n',\n",
       " 'Jersey,65\\n',\n",
       " 'Ireland,66\\n',\n",
       " 'Angola,67\\n',\n",
       " 'Central African Republic,68\\n',\n",
       " 'Isle of Man,69\\n',\n",
       " 'Ecuador,70\\n',\n",
       " 'Niger,71\\n',\n",
       " 'Germany,72\\n',\n",
       " 'Faroe Islands,73\\n',\n",
       " 'South Africa,74\\n',\n",
       " 'Uganda,75\\n',\n",
       " 'Canada,76\\n',\n",
       " 'Belize,77\\n',\n",
       " 'The Bahamas,78\\n',\n",
       " 'Venezuela,79\\n',\n",
       " 'Malawi,80\\n',\n",
       " 'Saint Pierre and Miquelon,81\\n',\n",
       " 'Senegal,82\\n',\n",
       " 'Malta,83\\n',\n",
       " 'Sint Maarten,84\\n',\n",
       " 'Jordan,85\\n',\n",
       " 'Zimbabwe,86\\n',\n",
       " 'Djibouti,87\\n',\n",
       " 'Chile,88\\n',\n",
       " 'El Salvador,89\\n',\n",
       " 'Colombia,90\\n',\n",
       " 'U.S. Virgin Islands,91\\n',\n",
       " 'Seychelles,92\\n',\n",
       " 'Gambia,93\\n',\n",
       " 'Bolivia,94\\n',\n",
       " 'Guyana,95\\n',\n",
       " 'Guatemala,96\\n',\n",
       " 'Namibia,97\\n',\n",
       " 'Cape Verde,98\\n',\n",
       " 'United States,99\\n',\n",
       " 'Lesotho,100\\n',\n",
       " 'Mauritania,101\\n',\n",
       " 'Cyprus,102\\n',\n",
       " 'Saint Martin,103\\n',\n",
       " 'Austria,104\\n',\n",
       " 'Madagascar,105\\n',\n",
       " 'Vanuatu,106\\n',\n",
       " 'New Zealand,107\\n',\n",
       " 'Netherlands,108\\n',\n",
       " 'Ethiopia,109\\n',\n",
       " 'French Polynesia,110\\n',\n",
       " 'Norway,111\\n',\n",
       " 'France,112\\n',\n",
       " 'Mozambique,113\\n',\n",
       " 'Caribbean Netherlands,114\\n',\n",
       " 'Sweden,115\\n',\n",
       " 'Suriname,116\\n',\n",
       " 'Morocco,117\\n',\n",
       " 'Maldives,118\\n',\n",
       " 'Guadeloupe,119\\n',\n",
       " 'Tonga,120\\n',\n",
       " 'Andorra,121\\n',\n",
       " 'Aland Islands,122\\n',\n",
       " 'United Arab Emirates,123\\n',\n",
       " 'South Sudan,124\\n',\n",
       " 'Saint Helena,125\\n',\n",
       " 'Somalia,126\\n',\n",
       " 'Portugal,127\\n',\n",
       " 'Martinique,128\\n',\n",
       " 'Australia,129\\n',\n",
       " 'Mayotte,130\\n',\n",
       " 'Lebanon,131\\n',\n",
       " 'Nigeria,132\\n',\n",
       " 'Kenya,133\\n',\n",
       " 'Cook Islands,134\\n',\n",
       " 'Uzbekistan,135\\n',\n",
       " 'Mexico,136\\n',\n",
       " 'French Guiana,137\\n',\n",
       " 'Singapore,138\\n',\n",
       " 'Peru,139\\n',\n",
       " 'Bhutan,140\\n',\n",
       " 'Mauritius,141\\n',\n",
       " 'Belgium,142\\n',\n",
       " 'Fiji,143\\n',\n",
       " 'Northern Mariana Islands,144\\n',\n",
       " 'San Marino,145\\n',\n",
       " 'Tanzania,146\\n',\n",
       " 'Tunisia,147\\n',\n",
       " 'Algeria,148\\n',\n",
       " 'Guam,149\\n',\n",
       " 'Turkmenistan,150\\n',\n",
       " 'SåÜo Tomå_ and PråÕncipe,151\\n',\n",
       " 'Puerto Rico,152\\n',\n",
       " 'Hong Kong,153\\n',\n",
       " 'Brazil,154\\n',\n",
       " 'Saint Barthå_lemy,155\\n',\n",
       " 'Denmark,156\\n',\n",
       " 'Spain,157\\n',\n",
       " 'Timor-Leste,158\\n',\n",
       " 'Israel,159\\n',\n",
       " 'Wallis and Futuna,160\\n',\n",
       " 'Sudan,161\\n',\n",
       " 'Dominican Republic,162\\n',\n",
       " 'Greece,163\\n',\n",
       " 'New Caledonia,164\\n',\n",
       " 'Tajikistan,165\\n',\n",
       " 'Brunei Darussalam,166\\n',\n",
       " 'Greenland,167\\n',\n",
       " 'Libya,168\\n',\n",
       " 'Saudi Arabia,169\\n',\n",
       " 'Oman,170\\n',\n",
       " 'Reunion,171\\n',\n",
       " 'Marshall Islands,172\\n',\n",
       " 'Italy,173\\n',\n",
       " 'Egypt,174\\n',\n",
       " 'Kazakhstan,175\\n',\n",
       " 'Nepal,176\\n',\n",
       " 'Papua New Guinea,177\\n',\n",
       " 'China,178\\n',\n",
       " 'Myanmar,179\\n',\n",
       " 'Vietnam,180\\n',\n",
       " 'Palau,181\\n',\n",
       " 'Estonia,182\\n',\n",
       " 'Croatia,183\\n',\n",
       " 'Finland,184\\n',\n",
       " 'Bulgaria,185\\n',\n",
       " 'Albania,186\\n',\n",
       " 'Georgia,187\\n',\n",
       " 'Russia,188\\n',\n",
       " 'Indonesia,189\\n',\n",
       " 'Cambodia,190\\n',\n",
       " 'Montenegro,191\\n',\n",
       " 'Macao,192\\n',\n",
       " 'Kyrgyzstan,193\\n',\n",
       " 'Ukraine,194\\n',\n",
       " 'Afghanistan,195\\n',\n",
       " 'Latvia,196\\n',\n",
       " 'Slovenia,197\\n',\n",
       " 'Hungary,198\\n',\n",
       " 'Moldova,199\\n',\n",
       " 'Macedonia,200\\n',\n",
       " 'Czech Republic,201\\n',\n",
       " 'Poland,202\\n',\n",
       " 'Micronesia,203\\n',\n",
       " 'Armenia,204\\n',\n",
       " 'Azerbaijan,205\\n',\n",
       " 'Samoa,206\\n',\n",
       " 'Japan,207\\n',\n",
       " 'Slovakia,208\\n',\n",
       " 'Bangladesh,209\\n',\n",
       " 'Romania,210\\n',\n",
       " 'Mongolia,211\\n',\n",
       " 'Bosnia and Herzegovina,212\\n',\n",
       " 'Palestine,213\\n',\n",
       " 'Lithuania,214\\n',\n",
       " 'Serbia,215\\n',\n",
       " 'Malaysia,216\\n',\n",
       " 'Kosovo,217\\n',\n",
       " 'Belarus,218\\n',\n",
       " 'Syria,219\\n',\n",
       " 'Iraq,220\\n',\n",
       " 'Thailand,221\\n',\n",
       " 'Iran,222\\n',\n",
       " 'Laos,223\\n',\n",
       " 'Sri Lanka,224\\n',\n",
       " 'Western Sahara,225\\n',\n",
       " 'South Korea,226\\n',\n",
       " 'Philippines,227\\n',\n",
       " 'Pakistan,228\\n',\n",
       " 'Yemen,229\\n',\n",
       " 'Taiwan,230\\n',\n",
       " 'Turkey,231\\n',\n",
       " 'India,232']"
      ]
     },
     "metadata": {},
     "execution_count": 27
    }
   ],
   "source": [
    "with open(file_path, encoding = 'ISO-8859-1') as f:\n",
    "    data = f.readlines()\n",
    "data"
   ]
  },
  {
   "cell_type": "code",
   "execution_count": 28,
   "metadata": {},
   "outputs": [
    {
     "output_type": "execute_result",
     "data": {
      "text/plain": [
       "233"
      ]
     },
     "metadata": {},
     "execution_count": 28
    }
   ],
   "source": [
    "len(data)"
   ]
  },
  {
   "cell_type": "code",
   "execution_count": 30,
   "metadata": {},
   "outputs": [
    {
     "output_type": "stream",
     "name": "stdout",
     "text": [
      "3244\n"
     ]
    }
   ],
   "source": [
    "tot_character = 0\n",
    "for l in data:\n",
    "    tot_character += len(l)\n",
    "print(tot_character)"
   ]
  },
  {
   "cell_type": "code",
   "execution_count": 32,
   "metadata": {},
   "outputs": [
    {
     "output_type": "execute_result",
     "data": {
      "text/plain": [
       "'Grenada,10\\n'"
      ]
     },
     "metadata": {},
     "execution_count": 32
    }
   ],
   "source": [
    "data[10]"
   ]
  },
  {
   "cell_type": "code",
   "execution_count": 50,
   "metadata": {},
   "outputs": [
    {
     "output_type": "execute_result",
     "data": {
      "text/plain": [
       "['country,\"Rank of interest in Fifa, May 27-28, 2015\"',\n",
       " 'Cayman Islands,1',\n",
       " 'Montserrat,2',\n",
       " 'Trinidad and Tobago,3',\n",
       " 'Uruguay,4']"
      ]
     },
     "metadata": {},
     "execution_count": 50
    }
   ],
   "source": [
    "with open(file_path, encoding = 'ISO-8859-1') as f:\n",
    "    data = f.read().splitlines() # remove \\n\n",
    "data[:5] # 5 first line"
   ]
  },
  {
   "source": [
    "# Writing Files\n",
    "We will also use `open()` with two different modes:\n",
    "\n",
    "* `w` for write: it will overwrite the content of an existing file OR create the file if it doesn't exist.\n",
    "* `a` for append: it will append the content at the end of an existing file.\n"
   ],
   "cell_type": "markdown",
   "metadata": {}
  },
  {
   "source": [
    "## Create or Overwrite"
   ],
   "cell_type": "markdown",
   "metadata": {}
  },
  {
   "cell_type": "code",
   "execution_count": 42,
   "metadata": {},
   "outputs": [
    {
     "output_type": "execute_result",
     "data": {
      "text/plain": [
       "['Replace all previous contents']"
      ]
     },
     "metadata": {},
     "execution_count": 42
    }
   ],
   "source": [
    "with open('data/hello_world.txt') as f:\n",
    "    data = f.read().splitlines()\n",
    "data "
   ]
  },
  {
   "cell_type": "code",
   "execution_count": 38,
   "metadata": {},
   "outputs": [],
   "source": [
    "# We use 'w' mode to create a new file and write in it\n",
    "with open('data/hello_world.txt', 'w') as f:\n",
    "    f.write(\"Congratulations, you've just created a new file and written in it!\")"
   ]
  },
  {
   "cell_type": "code",
   "execution_count": 39,
   "metadata": {},
   "outputs": [
    {
     "output_type": "stream",
     "name": "stdout",
     "text": [
      "Congratulations, you've just created a new file and written in it!"
     ]
    }
   ],
   "source": [
    "!cat data/hello_world.txt "
   ]
  },
  {
   "cell_type": "code",
   "execution_count": 45,
   "metadata": {},
   "outputs": [],
   "source": [
    "# If we use again 'w' mode on this file, it will erase our previous content\n",
    "with open('data/hello_world.txt', 'w') as f:\n",
    "    f.write(\"Replace all previous contents\")"
   ]
  },
  {
   "cell_type": "code",
   "execution_count": 46,
   "metadata": {},
   "outputs": [
    {
     "output_type": "stream",
     "name": "stdout",
     "text": [
      "Replace all previous contents"
     ]
    }
   ],
   "source": [
    "!cat data/hello_world.txt "
   ]
  },
  {
   "source": [
    "## Append "
   ],
   "cell_type": "markdown",
   "metadata": {}
  },
  {
   "cell_type": "code",
   "execution_count": 47,
   "metadata": {},
   "outputs": [],
   "source": [
    "with open('data/hello_world.txt', 'a') as f:\n",
    "    f.write(\"\\nAdd new line\") ## Note: \\n to enter a new line"
   ]
  },
  {
   "cell_type": "code",
   "execution_count": 48,
   "metadata": {},
   "outputs": [
    {
     "output_type": "stream",
     "name": "stdout",
     "text": [
      "Replace all previous contents\nAdd new line"
     ]
    }
   ],
   "source": [
    "!cat data/hello_world.txt "
   ]
  },
  {
   "source": [
    "## Write line by line"
   ],
   "cell_type": "markdown",
   "metadata": {}
  },
  {
   "cell_type": "code",
   "execution_count": 51,
   "metadata": {},
   "outputs": [
    {
     "output_type": "execute_result",
     "data": {
      "text/plain": [
       "['country,\"Rank of interest in Fifa, May 27-28, 2015\"',\n",
       " 'Cayman Islands,1',\n",
       " 'Montserrat,2',\n",
       " 'Trinidad and Tobago,3',\n",
       " 'Uruguay,4']"
      ]
     },
     "metadata": {},
     "execution_count": 51
    }
   ],
   "source": [
    "with open(file_path, encoding = 'ISO-8859-1') as f:\n",
    "    data = f.read().splitlines() # remove \\n\n",
    "data[:5] # 5 first line"
   ]
  },
  {
   "cell_type": "code",
   "execution_count": 52,
   "metadata": {},
   "outputs": [],
   "source": [
    "with open('data/hello_world.txt', 'w') as f:\n",
    "    f.writelines(data[:5]) ## take each element in the list and write one by one to the file"
   ]
  },
  {
   "cell_type": "code",
   "execution_count": 53,
   "metadata": {},
   "outputs": [
    {
     "output_type": "stream",
     "name": "stdout",
     "text": [
      "country,\"Rank of interest in Fifa, May 27-28, 2015\"Cayman Islands,1Montserrat,2Trinidad and Tobago,3Uruguay,4"
     ]
    }
   ],
   "source": [
    "!cat data/hello_world.txt "
   ]
  },
  {
   "cell_type": "code",
   "execution_count": 56,
   "metadata": {},
   "outputs": [
    {
     "output_type": "execute_result",
     "data": {
      "text/plain": [
       "'country,\"Rank of interest in Fifa, May 27-28, 2015\"\\nCayman Islands,1\\nMontserrat,2\\nTrinidad and Tobago,3\\nUruguay,4'"
      ]
     },
     "metadata": {},
     "execution_count": 56
    }
   ],
   "source": [
    "## Better format\n",
    "'\\n'.join(data[:5])"
   ]
  },
  {
   "cell_type": "code",
   "execution_count": 57,
   "metadata": {},
   "outputs": [],
   "source": [
    "with open('data/hello_world.txt', 'w') as f:\n",
    "    f.write('\\n'.join(data[:5])) ## TODO: Why not writelines?"
   ]
  },
  {
   "cell_type": "code",
   "execution_count": 58,
   "metadata": {},
   "outputs": [
    {
     "output_type": "stream",
     "name": "stdout",
     "text": [
      "country,\"Rank of interest in Fifa, May 27-28, 2015\"\nCayman Islands,1\nMontserrat,2\nTrinidad and Tobago,3\nUruguay,4"
     ]
    }
   ],
   "source": [
    "!cat data/hello_world.txt "
   ]
  },
  {
   "source": [
    "# Manipulate `.csv` files\n",
    "\n",
    "`.csv` files are used to store a large number of data. They look like simplified spreadsheets – think Excel – only the content is stored in plaintext.\n",
    "\n",
    "> CSV stands for coma-separated values.\n",
    "\n",
    "Basically, we can sum up the main features:\n",
    "\n",
    "* tabular data with one row per record (and as many rows as needed)\n",
    "* records can have many fields separated by a comma\n",
    "* all data is stored as plaintext (with quotes)\n",
    "* header row (optional)\n",
    "\n",
    "```\n",
    "country,\"Rank of interest in Fifa, May 27-28, 2015\"\n",
    "Cayman Islands,1\n",
    "Montserrat,2\n",
    "Trinidad and Tobago,3\n",
    "Uruguay,4\n",
    "```\n",
    "\n",
    "Be careful, CSV files lack of standardisation:\n",
    "* fields are not always properly quoted\n",
    "* delimeters are not always comas (;, /, |or - for instance)\n",
    "* ISO Coding"
   ],
   "cell_type": "markdown",
   "metadata": {}
  },
  {
   "source": [
    "## Open a csv file\n",
    "* Similar to what we do previously\n",
    "* Or, use convenient modules"
   ],
   "cell_type": "markdown",
   "metadata": {}
  },
  {
   "cell_type": "code",
   "execution_count": 80,
   "metadata": {},
   "outputs": [],
   "source": [
    "import csv"
   ]
  },
  {
   "cell_type": "code",
   "execution_count": 82,
   "metadata": {},
   "outputs": [
    {
     "output_type": "stream",
     "name": "stdout",
     "text": [
      "['country', 'Rank of interest in Fifa, May 27-28, 2015']\n['Cayman Islands', '1']\n['Montserrat', '2']\n['Trinidad and Tobago', '3']\n['Uruguay', '4']\n['Costa Rica', '5']\n['British Virgin Islands', '6']\n['Cameroon', '7']\n['Togo', '8']\n['Kuwait', '9']\n['Grenada', '10']\n['Liechtenstein', '11']\n['Antarctica', '12']\n['Bermuda', '13']\n['Barbados', '14']\n['Falkland Islands', '15']\n['Saint Kitts and Nevis', '16']\n['Switzerland', '17']\n['Paraguay', '18']\n['Haiti', '19']\n['Antigua and Barbuda', '20']\n['Guinea-Bissau', '21']\n['Turks and Caicos Islands', '22']\n['Dominica', '23']\n['North Korea', '24']\n['Democratic Republic of the Congo', '25']\n['Botswana', '26']\n['Gibraltar', '27']\n['Qatar', '28']\n['Aruba', '29']\n['Saint Lucia', '30']\n['Panama', '31']\n['Solomon Islands', '32']\n['Nicaragua', '33']\n['Liberia', '34']\n['Chad', '35']\n['Sierra Leone', '36']\n['Cuba', '37']\n['Burkina Faso', '38']\n['Mali', '39']\n['Zambia', '40']\n['Jamaica', '41']\n[\"Cåªte d'Ivoire\", '42']\n['Guinea', '43']\n['Honduras', '44']\n['Monaco', '45']\n['Anguilla', '46']\n['Congo', '47']\n['Benin', '48']\n['Curaå\\x8dao', '49']\n['Comoros', '50']\n['Argentina', '51']\n['Gabon', '52']\n['Eritrea', '53']\n['Saint Vincent and the Grenadines', '54']\n['Equatorial Guinea', '55']\n['Burundi', '56']\n['Swaziland', '57']\n['Luxembourg', '58']\n['Iceland', '59']\n['United Kingdom', '60']\n['Ghana', '61']\n['Guernsey', '62']\n['Rwanda', '63']\n['Bahrain', '64']\n['Jersey', '65']\n['Ireland', '66']\n['Angola', '67']\n['Central African Republic', '68']\n['Isle of Man', '69']\n['Ecuador', '70']\n['Niger', '71']\n['Germany', '72']\n['Faroe Islands', '73']\n['South Africa', '74']\n['Uganda', '75']\n['Canada', '76']\n['Belize', '77']\n['The Bahamas', '78']\n['Venezuela', '79']\n['Malawi', '80']\n['Saint Pierre and Miquelon', '81']\n['Senegal', '82']\n['Malta', '83']\n['Sint Maarten', '84']\n['Jordan', '85']\n['Zimbabwe', '86']\n['Djibouti', '87']\n['Chile', '88']\n['El Salvador', '89']\n['Colombia', '90']\n['U.S. Virgin Islands', '91']\n['Seychelles', '92']\n['Gambia', '93']\n['Bolivia', '94']\n['Guyana', '95']\n['Guatemala', '96']\n['Namibia', '97']\n['Cape Verde', '98']\n['United States', '99']\n['Lesotho', '100']\n['Mauritania', '101']\n['Cyprus', '102']\n['Saint Martin', '103']\n['Austria', '104']\n['Madagascar', '105']\n['Vanuatu', '106']\n['New Zealand', '107']\n['Netherlands', '108']\n['Ethiopia', '109']\n['French Polynesia', '110']\n['Norway', '111']\n['France', '112']\n['Mozambique', '113']\n['Caribbean Netherlands', '114']\n['Sweden', '115']\n['Suriname', '116']\n['Morocco', '117']\n['Maldives', '118']\n['Guadeloupe', '119']\n['Tonga', '120']\n['Andorra', '121']\n['Aland Islands', '122']\n['United Arab Emirates', '123']\n['South Sudan', '124']\n['Saint Helena', '125']\n['Somalia', '126']\n['Portugal', '127']\n['Martinique', '128']\n['Australia', '129']\n['Mayotte', '130']\n['Lebanon', '131']\n['Nigeria', '132']\n['Kenya', '133']\n['Cook Islands', '134']\n['Uzbekistan', '135']\n['Mexico', '136']\n['French Guiana', '137']\n['Singapore', '138']\n['Peru', '139']\n['Bhutan', '140']\n['Mauritius', '141']\n['Belgium', '142']\n['Fiji', '143']\n['Northern Mariana Islands', '144']\n['San Marino', '145']\n['Tanzania', '146']\n['Tunisia', '147']\n['Algeria', '148']\n['Guam', '149']\n['Turkmenistan', '150']\n['SåÜo Tomå_ and PråÕncipe', '151']\n['Puerto Rico', '152']\n['Hong Kong', '153']\n['Brazil', '154']\n['Saint Barthå_lemy', '155']\n['Denmark', '156']\n['Spain', '157']\n['Timor-Leste', '158']\n['Israel', '159']\n['Wallis and Futuna', '160']\n['Sudan', '161']\n['Dominican Republic', '162']\n['Greece', '163']\n['New Caledonia', '164']\n['Tajikistan', '165']\n['Brunei Darussalam', '166']\n['Greenland', '167']\n['Libya', '168']\n['Saudi Arabia', '169']\n['Oman', '170']\n['Reunion', '171']\n['Marshall Islands', '172']\n['Italy', '173']\n['Egypt', '174']\n['Kazakhstan', '175']\n['Nepal', '176']\n['Papua New Guinea', '177']\n['China', '178']\n['Myanmar', '179']\n['Vietnam', '180']\n['Palau', '181']\n['Estonia', '182']\n['Croatia', '183']\n['Finland', '184']\n['Bulgaria', '185']\n['Albania', '186']\n['Georgia', '187']\n['Russia', '188']\n['Indonesia', '189']\n['Cambodia', '190']\n['Montenegro', '191']\n['Macao', '192']\n['Kyrgyzstan', '193']\n['Ukraine', '194']\n['Afghanistan', '195']\n['Latvia', '196']\n['Slovenia', '197']\n['Hungary', '198']\n['Moldova', '199']\n['Macedonia', '200']\n['Czech Republic', '201']\n['Poland', '202']\n['Micronesia', '203']\n['Armenia', '204']\n['Azerbaijan', '205']\n['Samoa', '206']\n['Japan', '207']\n['Slovakia', '208']\n['Bangladesh', '209']\n['Romania', '210']\n['Mongolia', '211']\n['Bosnia and Herzegovina', '212']\n['Palestine', '213']\n['Lithuania', '214']\n['Serbia', '215']\n['Malaysia', '216']\n['Kosovo', '217']\n['Belarus', '218']\n['Syria', '219']\n['Iraq', '220']\n['Thailand', '221']\n['Iran', '222']\n['Laos', '223']\n['Sri Lanka', '224']\n['Western Sahara', '225']\n['South Korea', '226']\n['Philippines', '227']\n['Pakistan', '228']\n['Yemen', '229']\n['Taiwan', '230']\n['Turkey', '231']\n['India', '232']\n"
     ]
    }
   ],
   "source": [
    "data_folder = 'data'\n",
    "file_name = '20150528_FIFA.csv'\n",
    "csv_filepath = os.path.join(data_folder, file_name)\n",
    "\n",
    "# Instanciate a reader then read each row at a time\n",
    "with open(csv_filepath, 'r', encoding = 'ISO-8859-1') as f:\n",
    "    reader = csv.reader(f)\n",
    "    for row in reader:\n",
    "        print(row)"
   ]
  },
  {
   "cell_type": "code",
   "execution_count": 86,
   "metadata": {},
   "outputs": [
    {
     "output_type": "execute_result",
     "data": {
      "text/plain": [
       "[['country', 'Rank of interest in Fifa, May 27-28, 2015'],\n",
       " ['Cayman Islands', '1'],\n",
       " ['Montserrat', '2'],\n",
       " ['Trinidad and Tobago', '3'],\n",
       " ['Uruguay', '4']]"
      ]
     },
     "metadata": {},
     "execution_count": 86
    }
   ],
   "source": [
    "# Of course, it would be better to store the rows in a list\n",
    "with open(csv_filepath, 'r', encoding = 'ISO-8859-1') as f:\n",
    "    reader = csv.reader(f)\n",
    "    rows = list(reader)\n",
    "    \n",
    "rows[:5]"
   ]
  },
  {
   "cell_type": "code",
   "execution_count": 88,
   "metadata": {},
   "outputs": [
    {
     "output_type": "stream",
     "name": "stdout",
     "text": [
      "['country', 'Rank of interest in Fifa, May 27-28, 2015']\n"
     ]
    }
   ],
   "source": [
    "# And we can now use our 'rows' list like any regular list\n",
    "header = rows[0]\n",
    "print(header)"
   ]
  },
  {
   "cell_type": "code",
   "execution_count": 90,
   "metadata": {},
   "outputs": [
    {
     "output_type": "execute_result",
     "data": {
      "text/plain": [
       "'Costa Rica'"
      ]
     },
     "metadata": {},
     "execution_count": 90
    }
   ],
   "source": [
    "rows[5][0]"
   ]
  },
  {
   "source": [
    "## `csv.writer()` and `writerow()`"
   ],
   "cell_type": "markdown",
   "metadata": {}
  },
  {
   "cell_type": "code",
   "execution_count": 91,
   "metadata": {},
   "outputs": [
    {
     "output_type": "stream",
     "name": "stdout",
     "text": [
      "country,\"Rank of interest in Fifa, May 27-28, 2015\"\nCayman Islands,1\nMontserrat,2\nTrinidad and Tobago,3\nUruguay,4"
     ]
    }
   ],
   "source": [
    "!cat data/hello_world.txt"
   ]
  },
  {
   "cell_type": "code",
   "execution_count": 94,
   "metadata": {},
   "outputs": [],
   "source": [
    "# Do not forget the `a` mode with open!\n",
    "with open('data/hello_world.csv', 'a') as f:\n",
    "    writer = csv.writer(f)\n",
    "    writer.writerow(['Vietnam','90'])"
   ]
  },
  {
   "cell_type": "code",
   "execution_count": 99,
   "metadata": {},
   "outputs": [],
   "source": [
    "# TODO: Check the hello_world.csv file"
   ]
  },
  {
   "cell_type": "code",
   "execution_count": 100,
   "metadata": {},
   "outputs": [],
   "source": [
    "# Of course, we can write many rows at a time\n",
    "rows = [\n",
    "    ['A', '250'],\n",
    "    ['B', 'NA'],\n",
    "    ['C', '218'],\n",
    "    ['D', '213']\n",
    "]\n",
    "\n",
    "with open('data/hello_world.csv', 'a') as f:\n",
    "    writer = csv.writer(f)\n",
    "    for row in rows:\n",
    "        writer.writerow(row)"
   ]
  },
  {
   "cell_type": "code",
   "execution_count": 103,
   "metadata": {},
   "outputs": [
    {
     "output_type": "execute_result",
     "data": {
      "text/plain": [
       "               country  Rank of interest in Fifa, May 27-28, 2015\n",
       "0       Cayman Islands                                        1.0\n",
       "1           Montserrat                                        2.0\n",
       "2  Trinidad and Tobago                                        3.0\n",
       "3              Uruguay                                        4.0\n",
       "4              Vietnam                                       90.0\n",
       "5                    A                                      250.0\n",
       "6                    B                                        NaN\n",
       "7                    C                                      218.0\n",
       "8                    D                                      213.0"
      ],
      "text/html": "<div>\n<style scoped>\n    .dataframe tbody tr th:only-of-type {\n        vertical-align: middle;\n    }\n\n    .dataframe tbody tr th {\n        vertical-align: top;\n    }\n\n    .dataframe thead th {\n        text-align: right;\n    }\n</style>\n<table border=\"1\" class=\"dataframe\">\n  <thead>\n    <tr style=\"text-align: right;\">\n      <th></th>\n      <th>country</th>\n      <th>Rank of interest in Fifa, May 27-28, 2015</th>\n    </tr>\n  </thead>\n  <tbody>\n    <tr>\n      <th>0</th>\n      <td>Cayman Islands</td>\n      <td>1.0</td>\n    </tr>\n    <tr>\n      <th>1</th>\n      <td>Montserrat</td>\n      <td>2.0</td>\n    </tr>\n    <tr>\n      <th>2</th>\n      <td>Trinidad and Tobago</td>\n      <td>3.0</td>\n    </tr>\n    <tr>\n      <th>3</th>\n      <td>Uruguay</td>\n      <td>4.0</td>\n    </tr>\n    <tr>\n      <th>4</th>\n      <td>Vietnam</td>\n      <td>90.0</td>\n    </tr>\n    <tr>\n      <th>5</th>\n      <td>A</td>\n      <td>250.0</td>\n    </tr>\n    <tr>\n      <th>6</th>\n      <td>B</td>\n      <td>NaN</td>\n    </tr>\n    <tr>\n      <th>7</th>\n      <td>C</td>\n      <td>218.0</td>\n    </tr>\n    <tr>\n      <th>8</th>\n      <td>D</td>\n      <td>213.0</td>\n    </tr>\n  </tbody>\n</table>\n</div>"
     },
     "metadata": {},
     "execution_count": 103
    }
   ],
   "source": [
    "## Later, you will learn about pandas\n",
    "import pandas as pd \n",
    "data = pd.read_csv('data/hello_world.csv')\n",
    "data "
   ]
  },
  {
   "source": [
    "## Pickle to store Python Objects\n",
    "\n",
    "> csv is to store a data tables. What if we want to store other python objects (functions, instance from class)?\n",
    "\n",
    "### What is serialization ?\n",
    "While running our program, Python objects are temporarily stored our computer memory, we can use them. Once the program stops, the memory is emptied and our objects disappear. We have to recreate them if we want to use them.\n",
    "\n",
    "Of course, this is painful and not efficient. We would rather save our objets in files on our hard drive so that we can reload our objects everytime we need them.\n",
    "\n",
    "This process is called serialization and deserialization. We will use pickle to perfom it with Python objects.\n",
    "\n",
    "> **serialize** = transform Python object into a byte stream in order to store it in a file.\n",
    "\n",
    "> **deserialize** = use the byte stream to recreate the Python objet in memory and be able to use it.\n",
    "\n",
    "\n"
   ],
   "cell_type": "markdown",
   "metadata": {}
  },
  {
   "cell_type": "code",
   "execution_count": 104,
   "metadata": {},
   "outputs": [],
   "source": [
    "# We define a very simple class\n",
    "class Dog:\n",
    "    def __init__(self, name, age):\n",
    "        self.name = name\n",
    "        self.age = age\n",
    "    \n",
    "# We instanciate two dogs\n",
    "snoopy = Dog(\"Snoopy\", 6)\n",
    "lassie = Dog(\"Lassie\", 9)"
   ]
  },
  {
   "cell_type": "code",
   "execution_count": 105,
   "metadata": {},
   "outputs": [],
   "source": [
    "# First, import the `pickle` package\n",
    "import pickle\n",
    "store_path = 'data'\n",
    "# We also create the appropriate filepath for our `dog_file`\n",
    "dog_filepath = os.path.join(store_path, 'dog_file')"
   ]
  },
  {
   "cell_type": "code",
   "execution_count": 107,
   "metadata": {},
   "outputs": [],
   "source": [
    "# We can now dump a list of our instances in dog_file\n",
    "# Be careful: we have to write in 'wb' mode since our data is binary (not text)\n",
    "with open(dog_filepath, 'wb') as f:\n",
    "    pickle.dump([snoopy, lassie], f, pickle.HIGHEST_PROTOCOL)"
   ]
  },
  {
   "cell_type": "code",
   "execution_count": 108,
   "metadata": {},
   "outputs": [],
   "source": [
    "del(snoopy)\n",
    "del(lassie)"
   ]
  },
  {
   "cell_type": "code",
   "execution_count": 109,
   "metadata": {},
   "outputs": [
    {
     "output_type": "error",
     "ename": "NameError",
     "evalue": "name 'snoopy' is not defined",
     "traceback": [
      "\u001b[0;31m---------------------------------------------------------------------------\u001b[0m",
      "\u001b[0;31mNameError\u001b[0m                                 Traceback (most recent call last)",
      "\u001b[0;32m<ipython-input-109-facd27ca3597>\u001b[0m in \u001b[0;36m<module>\u001b[0;34m\u001b[0m\n\u001b[0;32m----> 1\u001b[0;31m \u001b[0msnoopy\u001b[0m \u001b[0;31m# Now the instance is not in the working environment anymore\u001b[0m\u001b[0;34m\u001b[0m\u001b[0;34m\u001b[0m\u001b[0m\n\u001b[0m",
      "\u001b[0;31mNameError\u001b[0m: name 'snoopy' is not defined"
     ]
    }
   ],
   "source": [
    "snoopy # Now the instance is not in the working environment anymore"
   ]
  },
  {
   "cell_type": "code",
   "execution_count": 110,
   "metadata": {},
   "outputs": [],
   "source": [
    "# But we can load it back \n",
    "# Do not forget the 'rb' mode since our data is binary (not text)\n",
    "with open(dog_filepath, 'rb') as f:\n",
    "    dogs = pickle.load(f)\n",
    "\n",
    "snoopy, lassie = dogs[0], dogs[1]"
   ]
  },
  {
   "cell_type": "code",
   "execution_count": 111,
   "metadata": {},
   "outputs": [
    {
     "output_type": "stream",
     "name": "stdout",
     "text": [
      "{'name': 'Snoopy', 'age': 6}\n"
     ]
    }
   ],
   "source": [
    "print(snoopy.__dict__)"
   ]
  },
  {
   "cell_type": "code",
   "execution_count": 116,
   "metadata": {},
   "outputs": [],
   "source": [
    "def random_func():\n",
    "    print('Random things')"
   ]
  },
  {
   "cell_type": "code",
   "execution_count": 117,
   "metadata": {},
   "outputs": [
    {
     "output_type": "stream",
     "name": "stdout",
     "text": [
      "Random things\n"
     ]
    }
   ],
   "source": [
    "random_func()"
   ]
  },
  {
   "cell_type": "code",
   "execution_count": 118,
   "metadata": {},
   "outputs": [],
   "source": [
    "with open('data/random_functions', 'wb') as f:\n",
    "    pickle.dump([random_func], f, pickle.HIGHEST_PROTOCOL)"
   ]
  },
  {
   "cell_type": "code",
   "execution_count": 115,
   "metadata": {},
   "outputs": [
    {
     "output_type": "error",
     "ename": "NameError",
     "evalue": "name 'random_func' is not defined",
     "traceback": [
      "\u001b[0;31m---------------------------------------------------------------------------\u001b[0m",
      "\u001b[0;31mNameError\u001b[0m                                 Traceback (most recent call last)",
      "\u001b[0;32m<ipython-input-115-2fe44a32b16a>\u001b[0m in \u001b[0;36m<module>\u001b[0;34m\u001b[0m\n\u001b[0;32m----> 1\u001b[0;31m \u001b[0mrandom_func\u001b[0m\u001b[0;34m(\u001b[0m\u001b[0;34m)\u001b[0m\u001b[0;34m\u001b[0m\u001b[0;34m\u001b[0m\u001b[0m\n\u001b[0m",
      "\u001b[0;31mNameError\u001b[0m: name 'random_func' is not defined"
     ]
    }
   ],
   "source": [
    "del(random_func)\n",
    "random_func()"
   ]
  },
  {
   "cell_type": "code",
   "execution_count": 119,
   "metadata": {},
   "outputs": [],
   "source": [
    "with open('data/random_functions', 'rb') as f:\n",
    "    funcs = pickle.load(f)\n",
    "\n",
    "rand_func = funcs[0]"
   ]
  },
  {
   "cell_type": "code",
   "execution_count": 120,
   "metadata": {},
   "outputs": [
    {
     "output_type": "stream",
     "name": "stdout",
     "text": [
      "Random things\n"
     ]
    }
   ],
   "source": [
    "rand_func()"
   ]
  }
 ]
}